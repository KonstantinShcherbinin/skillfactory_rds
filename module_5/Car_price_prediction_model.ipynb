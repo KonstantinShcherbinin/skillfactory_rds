{
 "cells": [
  {
   "cell_type": "markdown",
   "metadata": {},
   "source": [
    "## 1. Импорт библиотек"
   ]
  },
  {
   "cell_type": "code",
   "execution_count": 1,
   "metadata": {},
   "outputs": [],
   "source": [
    "import pandas as pd\n",
    "import matplotlib.pyplot as plt\n",
    "import seaborn as sns\n",
    "import numpy as np\n",
    "from statistics import mode, multimode\n",
    "from itertools import combinations\n",
    "from scipy.stats import ttest_ind, pearsonr, f_oneway\n",
    "import statsmodels.api as sm\n",
    "import scipy.stats as sst\n",
    "import warnings\n",
    "from datetime import datetime\n",
    "from datetime import date\n",
    "import time\n",
    "import re\n",
    "\n",
    "import requests\n",
    "from bs4 import BeautifulSoup\n",
    "\n",
    "from sklearn.feature_selection import f_classif, mutual_info_classif\n",
    "from sklearn.preprocessing import LabelEncoder, OneHotEncoder, StandardScaler, RobustScaler,\\\n",
    "                                  MinMaxScaler, KBinsDiscretizer\n",
    "\n",
    "from sklearn.model_selection import train_test_split, GridSearchCV\n",
    "from sklearn.linear_model import LogisticRegression\n",
    "\n",
    "from sklearn.ensemble import (ExtraTreesRegressor, RandomForestRegressor,\\\n",
    "                              GradientBoostingRegressor, StackingRegressor)\n",
    "\n",
    "from sklearn.metrics import confusion_matrix, auc, roc_auc_score, roc_curve, accuracy_score,\\\n",
    "precision_score, recall_score, f1_score, precision_recall_curve, average_precision_score\n",
    "\n",
    "%matplotlib inline\n",
    "warnings.filterwarnings('ignore')"
   ]
  },
  {
   "cell_type": "markdown",
   "metadata": {},
   "source": [
    "## 2. Определение функций"
   ]
  },
  {
   "cell_type": "code",
   "execution_count": 2,
   "metadata": {},
   "outputs": [],
   "source": [
    "# MAPE\n",
    "def mape(y_true, y_pred): \n",
    "    y_true, y_pred = np.array(y_true), np.array(y_pred)\n",
    "    return np.mean(np.abs((y_true - y_pred) / y_true) * 100)"
   ]
  },
  {
   "cell_type": "markdown",
   "metadata": {},
   "source": [
    "## 3. Импорт данных"
   ]
  },
  {
   "cell_type": "code",
   "execution_count": 3,
   "metadata": {},
   "outputs": [],
   "source": [
    "data = pd.read_excel('data_all.xlsx')\n",
    "# data_disc = pd.read_excel('data_disc.xlsx')\n",
    "data_log = pd.read_excel('data_log.xlsx')\n",
    "data_scaled = pd.read_excel('data_scaled.xlsx')"
   ]
  },
  {
   "cell_type": "code",
   "execution_count": 4,
   "metadata": {},
   "outputs": [],
   "source": [
    "sell_id = pd.read_excel('sell_id.xlsx')"
   ]
  },
  {
   "cell_type": "code",
   "execution_count": 5,
   "metadata": {},
   "outputs": [
    {
     "data": {
      "text/html": [
       "<div>\n",
       "<style scoped>\n",
       "    .dataframe tbody tr th:only-of-type {\n",
       "        vertical-align: middle;\n",
       "    }\n",
       "\n",
       "    .dataframe tbody tr th {\n",
       "        vertical-align: top;\n",
       "    }\n",
       "\n",
       "    .dataframe thead th {\n",
       "        text-align: right;\n",
       "    }\n",
       "</style>\n",
       "<table border=\"1\" class=\"dataframe\">\n",
       "  <thead>\n",
       "    <tr style=\"text-align: right;\">\n",
       "      <th></th>\n",
       "      <th>Unnamed: 0</th>\n",
       "      <th>sell_id</th>\n",
       "    </tr>\n",
       "  </thead>\n",
       "  <tbody>\n",
       "    <tr>\n",
       "      <th>count</th>\n",
       "      <td>34686.000000</td>\n",
       "      <td>3.468600e+04</td>\n",
       "    </tr>\n",
       "    <tr>\n",
       "      <th>mean</th>\n",
       "      <td>17342.500000</td>\n",
       "      <td>1.098300e+09</td>\n",
       "    </tr>\n",
       "    <tr>\n",
       "      <th>std</th>\n",
       "      <td>10013.130055</td>\n",
       "      <td>1.911225e+07</td>\n",
       "    </tr>\n",
       "    <tr>\n",
       "      <th>min</th>\n",
       "      <td>0.000000</td>\n",
       "      <td>2.665000e+03</td>\n",
       "    </tr>\n",
       "    <tr>\n",
       "      <th>25%</th>\n",
       "      <td>8671.250000</td>\n",
       "      <td>1.099049e+09</td>\n",
       "    </tr>\n",
       "    <tr>\n",
       "      <th>50%</th>\n",
       "      <td>17342.500000</td>\n",
       "      <td>1.100911e+09</td>\n",
       "    </tr>\n",
       "    <tr>\n",
       "      <th>75%</th>\n",
       "      <td>26013.750000</td>\n",
       "      <td>1.101245e+09</td>\n",
       "    </tr>\n",
       "    <tr>\n",
       "      <th>max</th>\n",
       "      <td>34685.000000</td>\n",
       "      <td>1.101375e+09</td>\n",
       "    </tr>\n",
       "  </tbody>\n",
       "</table>\n",
       "</div>"
      ],
      "text/plain": [
       "         Unnamed: 0       sell_id\n",
       "count  34686.000000  3.468600e+04\n",
       "mean   17342.500000  1.098300e+09\n",
       "std    10013.130055  1.911225e+07\n",
       "min        0.000000  2.665000e+03\n",
       "25%     8671.250000  1.099049e+09\n",
       "50%    17342.500000  1.100911e+09\n",
       "75%    26013.750000  1.101245e+09\n",
       "max    34685.000000  1.101375e+09"
      ]
     },
     "execution_count": 5,
     "metadata": {},
     "output_type": "execute_result"
    }
   ],
   "source": [
    "sell_id.describe()"
   ]
  },
  {
   "cell_type": "code",
   "execution_count": 6,
   "metadata": {},
   "outputs": [],
   "source": [
    "target = 'price'\n",
    "cat_cols = ['bodyType', 'brand', 'color', 'description', 'fuelType', 'model_name', 'vehicleTransmission', \n",
    "             'Владельцы', 'Привод', 'vendor', 'ПТС', 'Руль']\n",
    "num_cols = ['engineDisplacement', 'enginePower', 'mileage', 'age', 'Владение']"
   ]
  },
  {
   "cell_type": "code",
   "execution_count": 7,
   "metadata": {},
   "outputs": [
    {
     "data": {
      "text/plain": [
       "(153531, 788)"
      ]
     },
     "execution_count": 7,
     "metadata": {},
     "output_type": "execute_result"
    }
   ],
   "source": [
    "data_cat = pd.get_dummies(data.loc[:, cat_cols], columns = cat_cols)\n",
    "data_cat.shape"
   ]
  },
  {
   "cell_type": "markdown",
   "metadata": {},
   "source": [
    "### 9. Моделирование"
   ]
  },
  {
   "cell_type": "markdown",
   "metadata": {},
   "source": [
    "#### 9.1. Подготовка комбинаций датафреймов с различными вариантами обработки числовых признаков"
   ]
  },
  {
   "cell_type": "code",
   "execution_count": 8,
   "metadata": {},
   "outputs": [],
   "source": [
    "data_scaled = pd.concat([data_scaled, data[target], data.flag], axis = 1)\n",
    "data_scaled = pd.concat([data_scaled, data_cat], axis = 1)"
   ]
  },
  {
   "cell_type": "code",
   "execution_count": 9,
   "metadata": {},
   "outputs": [],
   "source": [
    "data_log = pd.concat([data_log, data[target], data.flag], axis = 1)\n",
    "data_log = pd.concat([data_log, data_cat], axis = 1)"
   ]
  },
  {
   "cell_type": "code",
   "execution_count": 10,
   "metadata": {},
   "outputs": [],
   "source": [
    "# data_disc = pd.concat([data_disc, data[target], data.flag], axis = 1)\n",
    "# data_disc = pd.concat([data_disc, data_cat], axis = 1)"
   ]
  },
  {
   "cell_type": "code",
   "execution_count": 13,
   "metadata": {},
   "outputs": [],
   "source": [
    "data_scaled = data_scaled.drop(['Unnamed: 0'], axis=1)"
   ]
  },
  {
   "cell_type": "code",
   "execution_count": 14,
   "metadata": {},
   "outputs": [
    {
     "data": {
      "text/html": [
       "<div>\n",
       "<style scoped>\n",
       "    .dataframe tbody tr th:only-of-type {\n",
       "        vertical-align: middle;\n",
       "    }\n",
       "\n",
       "    .dataframe tbody tr th {\n",
       "        vertical-align: top;\n",
       "    }\n",
       "\n",
       "    .dataframe thead th {\n",
       "        text-align: right;\n",
       "    }\n",
       "</style>\n",
       "<table border=\"1\" class=\"dataframe\">\n",
       "  <thead>\n",
       "    <tr style=\"text-align: right;\">\n",
       "      <th></th>\n",
       "      <th>engineDisplacement</th>\n",
       "      <th>enginePower</th>\n",
       "      <th>mileage</th>\n",
       "      <th>age</th>\n",
       "      <th>Владение</th>\n",
       "      <th>price</th>\n",
       "      <th>flag</th>\n",
       "      <th>bodyType_внедорожник 3 дв.</th>\n",
       "      <th>bodyType_внедорожник 5 дв.</th>\n",
       "      <th>bodyType_внедорожник открытый</th>\n",
       "      <th>...</th>\n",
       "      <th>Владельцы_3</th>\n",
       "      <th>Привод_задний</th>\n",
       "      <th>Привод_передний</th>\n",
       "      <th>Привод_полный</th>\n",
       "      <th>vendor_EUROPEAN</th>\n",
       "      <th>vendor_JAPANESE</th>\n",
       "      <th>ПТС_Дубликат</th>\n",
       "      <th>ПТС_Оригинал</th>\n",
       "      <th>Руль_Левый</th>\n",
       "      <th>Руль_Правый</th>\n",
       "    </tr>\n",
       "  </thead>\n",
       "  <tbody>\n",
       "    <tr>\n",
       "      <th>0</th>\n",
       "      <td>0.151515</td>\n",
       "      <td>0.123153</td>\n",
       "      <td>0.147998</td>\n",
       "      <td>0.171429</td>\n",
       "      <td>0.695122</td>\n",
       "      <td>NaN</td>\n",
       "      <td>0</td>\n",
       "      <td>0</td>\n",
       "      <td>0</td>\n",
       "      <td>0</td>\n",
       "      <td>...</td>\n",
       "      <td>1</td>\n",
       "      <td>0</td>\n",
       "      <td>1</td>\n",
       "      <td>0</td>\n",
       "      <td>1</td>\n",
       "      <td>0</td>\n",
       "      <td>0</td>\n",
       "      <td>1</td>\n",
       "      <td>1</td>\n",
       "      <td>0</td>\n",
       "    </tr>\n",
       "    <tr>\n",
       "      <th>1</th>\n",
       "      <td>0.272727</td>\n",
       "      <td>0.131363</td>\n",
       "      <td>0.121124</td>\n",
       "      <td>0.085714</td>\n",
       "      <td>0.609756</td>\n",
       "      <td>NaN</td>\n",
       "      <td>0</td>\n",
       "      <td>0</td>\n",
       "      <td>0</td>\n",
       "      <td>0</td>\n",
       "      <td>...</td>\n",
       "      <td>0</td>\n",
       "      <td>0</td>\n",
       "      <td>1</td>\n",
       "      <td>0</td>\n",
       "      <td>1</td>\n",
       "      <td>0</td>\n",
       "      <td>0</td>\n",
       "      <td>1</td>\n",
       "      <td>1</td>\n",
       "      <td>0</td>\n",
       "    </tr>\n",
       "    <tr>\n",
       "      <th>2</th>\n",
       "      <td>0.333333</td>\n",
       "      <td>0.200328</td>\n",
       "      <td>0.175998</td>\n",
       "      <td>0.171429</td>\n",
       "      <td>0.695122</td>\n",
       "      <td>NaN</td>\n",
       "      <td>0</td>\n",
       "      <td>0</td>\n",
       "      <td>0</td>\n",
       "      <td>0</td>\n",
       "      <td>...</td>\n",
       "      <td>0</td>\n",
       "      <td>0</td>\n",
       "      <td>1</td>\n",
       "      <td>0</td>\n",
       "      <td>1</td>\n",
       "      <td>0</td>\n",
       "      <td>0</td>\n",
       "      <td>1</td>\n",
       "      <td>1</td>\n",
       "      <td>0</td>\n",
       "    </tr>\n",
       "    <tr>\n",
       "      <th>3</th>\n",
       "      <td>0.272727</td>\n",
       "      <td>0.131363</td>\n",
       "      <td>0.189998</td>\n",
       "      <td>0.171429</td>\n",
       "      <td>0.695122</td>\n",
       "      <td>NaN</td>\n",
       "      <td>0</td>\n",
       "      <td>0</td>\n",
       "      <td>0</td>\n",
       "      <td>0</td>\n",
       "      <td>...</td>\n",
       "      <td>0</td>\n",
       "      <td>0</td>\n",
       "      <td>1</td>\n",
       "      <td>0</td>\n",
       "      <td>1</td>\n",
       "      <td>0</td>\n",
       "      <td>0</td>\n",
       "      <td>1</td>\n",
       "      <td>1</td>\n",
       "      <td>0</td>\n",
       "    </tr>\n",
       "    <tr>\n",
       "      <th>4</th>\n",
       "      <td>0.333333</td>\n",
       "      <td>0.200328</td>\n",
       "      <td>0.117070</td>\n",
       "      <td>0.228571</td>\n",
       "      <td>0.678862</td>\n",
       "      <td>NaN</td>\n",
       "      <td>0</td>\n",
       "      <td>0</td>\n",
       "      <td>0</td>\n",
       "      <td>0</td>\n",
       "      <td>...</td>\n",
       "      <td>0</td>\n",
       "      <td>0</td>\n",
       "      <td>1</td>\n",
       "      <td>0</td>\n",
       "      <td>1</td>\n",
       "      <td>0</td>\n",
       "      <td>0</td>\n",
       "      <td>1</td>\n",
       "      <td>1</td>\n",
       "      <td>0</td>\n",
       "    </tr>\n",
       "  </tbody>\n",
       "</table>\n",
       "<p>5 rows × 795 columns</p>\n",
       "</div>"
      ],
      "text/plain": [
       "   engineDisplacement  enginePower   mileage       age  Владение  price  flag  \\\n",
       "0            0.151515     0.123153  0.147998  0.171429  0.695122    NaN     0   \n",
       "1            0.272727     0.131363  0.121124  0.085714  0.609756    NaN     0   \n",
       "2            0.333333     0.200328  0.175998  0.171429  0.695122    NaN     0   \n",
       "3            0.272727     0.131363  0.189998  0.171429  0.695122    NaN     0   \n",
       "4            0.333333     0.200328  0.117070  0.228571  0.678862    NaN     0   \n",
       "\n",
       "   bodyType_внедорожник 3 дв.  bodyType_внедорожник 5 дв.  \\\n",
       "0                           0                           0   \n",
       "1                           0                           0   \n",
       "2                           0                           0   \n",
       "3                           0                           0   \n",
       "4                           0                           0   \n",
       "\n",
       "   bodyType_внедорожник открытый  ...  Владельцы_3  Привод_задний  \\\n",
       "0                              0  ...            1              0   \n",
       "1                              0  ...            0              0   \n",
       "2                              0  ...            0              0   \n",
       "3                              0  ...            0              0   \n",
       "4                              0  ...            0              0   \n",
       "\n",
       "   Привод_передний  Привод_полный  vendor_EUROPEAN  vendor_JAPANESE  \\\n",
       "0                1              0                1                0   \n",
       "1                1              0                1                0   \n",
       "2                1              0                1                0   \n",
       "3                1              0                1                0   \n",
       "4                1              0                1                0   \n",
       "\n",
       "   ПТС_Дубликат  ПТС_Оригинал  Руль_Левый  Руль_Правый  \n",
       "0             0             1           1            0  \n",
       "1             0             1           1            0  \n",
       "2             0             1           1            0  \n",
       "3             0             1           1            0  \n",
       "4             0             1           1            0  \n",
       "\n",
       "[5 rows x 795 columns]"
      ]
     },
     "execution_count": 14,
     "metadata": {},
     "output_type": "execute_result"
    }
   ],
   "source": [
    "data_scaled()"
   ]
  },
  {
   "cell_type": "markdown",
   "metadata": {},
   "source": [
    "#### 9.2. Random Forest"
   ]
  },
  {
   "cell_type": "code",
   "execution_count": 33,
   "metadata": {},
   "outputs": [],
   "source": [
    "# Разделение на тренировочную и валидационную выборки data_scaled\n",
    "data_fit = data_scaled[data_scaled['flag'] == 1]\n",
    "data_fit = data_fit.dropna()\n",
    "X = data_fit.drop([target], axis=1)\n",
    "y = data_fit[target]\n",
    "\n",
    "X_train, X_val, y_train, y_val = train_test_split(X, y, test_size=0.2,\n",
    "                                                  shuffle=True, random_state=0)"
   ]
  },
  {
   "cell_type": "code",
   "execution_count": 35,
   "metadata": {},
   "outputs": [
    {
     "name": "stderr",
     "output_type": "stream",
     "text": [
      "[Parallel(n_jobs=-1)]: Using backend ThreadingBackend with 3 concurrent workers.\n",
      "[Parallel(n_jobs=-1)]: Done  44 tasks      | elapsed:  3.2min\n",
      "[Parallel(n_jobs=-1)]: Done 194 tasks      | elapsed: 15.4min\n",
      "[Parallel(n_jobs=-1)]: Done 300 out of 300 | elapsed: 23.8min finished\n",
      "[Parallel(n_jobs=3)]: Using backend ThreadingBackend with 3 concurrent workers.\n",
      "[Parallel(n_jobs=3)]: Done  44 tasks      | elapsed:    1.9s\n",
      "[Parallel(n_jobs=3)]: Done 194 tasks      | elapsed:   14.2s\n"
     ]
    },
    {
     "name": "stdout",
     "output_type": "stream",
     "text": [
      "Mean Absolute Percentage Error: 15.299080423661566\n"
     ]
    },
    {
     "name": "stderr",
     "output_type": "stream",
     "text": [
      "[Parallel(n_jobs=3)]: Done 300 out of 300 | elapsed:   22.5s finished\n"
     ]
    }
   ],
   "source": [
    "# Разделение на тренировочную и валидационную выборки data_scaled\n",
    "data_fit = data_scaled[data_scaled['flag'] == 1]\n",
    "data_fit = data_fit.dropna()\n",
    "X = data_fit.drop([target], axis=1)\n",
    "y = data_fit[target]\n",
    "\n",
    "X_train, X_val, y_train, y_val = train_test_split(X, y, test_size=0.2,\n",
    "                                                  shuffle=True, random_state=0)\n",
    "# Обучение и предсказание\n",
    "rf = ExtraTreesRegressor(n_estimators=300, random_state=0, n_jobs=-1,\n",
    "                         bootstrap=True, verbose=1)\n",
    "rf.fit(X_train, y_train)\n",
    "y_pred = rf.predict(X_val)\n",
    "\n",
    "MAPE = mape(y_val, y_pred)\n",
    "print(f'Mean Absolute Percentage Error: {MAPE}')\n",
    "# MAPE = 15.299"
   ]
  },
  {
   "cell_type": "markdown",
   "metadata": {},
   "source": [
    "#### 9.3. Catboost"
   ]
  },
  {
   "cell_type": "code",
   "execution_count": null,
   "metadata": {},
   "outputs": [],
   "source": [
    "# Разделение на тренировочную и валидационную выборки data_scaled\n",
    "data_fit = data_scaled[data_scaled['flag'] == 1]\n",
    "data_fit = data_fit.dropna()\n",
    "X = data_fit.drop([target], axis=1)\n",
    "y = data_fit[target]\n",
    "\n",
    "X_train, X_val, y_train, y_val = train_test_split(X, y, test_size=0.2,\n",
    "                                                  shuffle=True, random_state=0)"
   ]
  },
  {
   "cell_type": "code",
   "execution_count": null,
   "metadata": {},
   "outputs": [],
   "source": [
    "# Обучение\n",
    "cbr = CatBoostRegressor()\n",
    "\n",
    "# Grid search\n",
    "param_grid = {'iterations': [500],\n",
    "              'learning_rate': [0.01, 0.1, 0.25, 0.5],\n",
    "              'l2_leaf_reg': [1, 3, 5, 10],\n",
    "              'depth': np.arange(10, 14),\n",
    "              'thread_count': [4]}\n",
    "\n",
    "cbr.grid_search(param_grid=param_grid,\n",
    "                X=X,\n",
    "                y=y,\n",
    "                cv=5,\n",
    "                partition_random_seed=0,\n",
    "                calc_cv_statistics=True,\n",
    "                search_by_train_test_split=True,\n",
    "                refit=True,\n",
    "                shuffle=True,\n",
    "                stratified=None,\n",
    "                train_size=0.8,\n",
    "                verbose=True,\n",
    "                plot=True)\n",
    "\n",
    "grid_search = GridSearchCV(cbr, param_grid, n_jobs=-1,\n",
    "                           scoring=mape, cv=5, refit=True,\n",
    "                           return_train_score=True, verbose=5)"
   ]
  },
  {
   "cell_type": "code",
   "execution_count": null,
   "metadata": {},
   "outputs": [],
   "source": [
    "# Лучшие параметры\n",
    "cbr.get_params()"
   ]
  },
  {
   "cell_type": "code",
   "execution_count": null,
   "metadata": {},
   "outputs": [],
   "source": [
    "MAPE = mape(y_val, cbr.predict(X_val))\n",
    "print(f'Mean Absolute Percentage Error: {MAPE}')\n",
    "# MAPE = 14.2198"
   ]
  },
  {
   "cell_type": "markdown",
   "metadata": {},
   "source": [
    "#### 9.4. XGBoost"
   ]
  },
  {
   "cell_type": "code",
   "execution_count": null,
   "metadata": {},
   "outputs": [],
   "source": [
    "# Обучение\n",
    "xg_reg = xgb.XGBRegressor(objective='reg:squarederror', colsample_bytree=0.5,\n",
    "                          learning_rate=0.05, max_depth=12, alpha=1,\n",
    "                          n_estimators=1000, silent=1)\n",
    "xg_reg.fit(X_train, y_train)\n",
    "xg_red_pred = xg_reg.predict(X_val)"
   ]
  },
  {
   "cell_type": "code",
   "execution_count": null,
   "metadata": {},
   "outputs": [],
   "source": [
    "# Кросс-валидация\n",
    "# params = {'objective': 'reg:squarederror',\n",
    "#           'colsample_bytree': 0.5,\n",
    "#           'learning_rate': 0.05,\n",
    "#           'max_depth': 10, \n",
    "#           'alpha': 1,\n",
    "#           'n_estimators': 1000}\n",
    "\n",
    "# cv_results = xgb.cv(dtrain=data_dmatrix, params=params, nfold=5,\n",
    "#                     num_boost_round=1000, early_stopping_rounds=10,\n",
    "#                     metrics=\"rmse\", as_pandas=True, seed=0)"
   ]
  },
  {
   "cell_type": "code",
   "execution_count": null,
   "metadata": {},
   "outputs": [],
   "source": [
    "MAPE = mape(y_val, xg_reg.predict(X_val))\n",
    "print(f'Mean Absolute Percentage Error: {MAPE}')\n",
    "# MAPE = 15.645"
   ]
  },
  {
   "cell_type": "markdown",
   "metadata": {},
   "source": [
    "#### 9.5. Создание submission для выгрузки на kaggle"
   ]
  },
  {
   "cell_type": "code",
   "execution_count": null,
   "metadata": {},
   "outputs": [],
   "source": [
    "# Предсказание выбранной модели\n",
    "X_test = data_scaled[data_scaled['flag'] == 0].drop([target], axis=1)\n",
    "Y_pred = rf.predict(X_val)\n",
    "X_test.shape"
   ]
  },
  {
   "cell_type": "code",
   "execution_count": null,
   "metadata": {},
   "outputs": [],
   "source": [
    "Y_test = pd.DataFrame(data=Y_pred, columns=['price'])\n",
    "data = sell_id.merge(Y_test, left_index=True, right_index=True, how='right')\n",
    "data = data.drop(['Unnamed: 0'], axis=1)\n",
    "data.head()"
   ]
  },
  {
   "cell_type": "code",
   "execution_count": null,
   "metadata": {},
   "outputs": [],
   "source": [
    "data.shape"
   ]
  },
  {
   "cell_type": "code",
   "execution_count": null,
   "metadata": {},
   "outputs": [],
   "source": [
    "data.to_csv(path_or_buf='submission_1.0', index=False)"
   ]
  },
  {
   "cell_type": "markdown",
   "metadata": {},
   "source": [
    "#### 9.6. Выводы\n",
    "Лучший результат на тесте получился с использованием XGBoost и нормализацией - 24.17"
   ]
  },
  {
   "cell_type": "code",
   "execution_count": null,
   "metadata": {},
   "outputs": [],
   "source": []
  }
 ],
 "metadata": {
  "kernelspec": {
   "display_name": "Python 3",
   "language": "python",
   "name": "python3"
  },
  "language_info": {
   "codemirror_mode": {
    "name": "ipython",
    "version": 3
   },
   "file_extension": ".py",
   "mimetype": "text/x-python",
   "name": "python",
   "nbconvert_exporter": "python",
   "pygments_lexer": "ipython3",
   "version": "3.8.5"
  }
 },
 "nbformat": 4,
 "nbformat_minor": 4
}
