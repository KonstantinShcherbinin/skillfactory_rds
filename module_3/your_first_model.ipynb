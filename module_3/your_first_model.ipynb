{
 "cells": [
  {
   "cell_type": "markdown",
   "metadata": {},
   "source": [
    "# Загрузка Pandas и очистка данных"
   ]
  },
  {
   "cell_type": "code",
   "execution_count": 1,
   "metadata": {},
   "outputs": [],
   "source": [
    "import pandas as pd\n",
    "import numpy as np\n",
    "import re\n",
    "import matplotlib.pyplot as plt\n",
    "import seaborn as sns"
   ]
  },
  {
   "cell_type": "code",
   "execution_count": 2,
   "metadata": {},
   "outputs": [],
   "source": [
    "df = pd.read_csv('C:/Users/Константин/Python/main_task.xls')"
   ]
  },
  {
   "cell_type": "code",
   "execution_count": null,
   "metadata": {
    "scrolled": true
   },
   "outputs": [],
   "source": [
    "display(df)"
   ]
  },
  {
   "cell_type": "code",
   "execution_count": null,
   "metadata": {},
   "outputs": [],
   "source": [
    "# Ваш код по очистке данных и генерации новых признаков\n",
    "# При необходимости добавьте ячейки"
   ]
  },
  {
   "cell_type": "code",
   "execution_count": 3,
   "metadata": {},
   "outputs": [],
   "source": [
    "df.rename(columns={'Restaurant_id': 'restaurant_id',\n",
    "                   'City': 'city', 'Cuisine Style': 'cuisine_style',\n",
    "                   'Ranking': 'ranking', 'Rating': 'rating', \n",
    "                   'Price Range': 'price_range', \n",
    "                   'Number of Reviews': 'number_of_reviews', \n",
    "                   'Reviews': 'reviews', 'URL_TA': 'url_ta', \n",
    "                   'ID_TA': 'id_ta'\n",
    "                  }, inplace=True)"
   ]
  },
  {
   "cell_type": "code",
   "execution_count": null,
   "metadata": {
    "scrolled": true
   },
   "outputs": [],
   "source": [
    "df.info()"
   ]
  },
  {
   "cell_type": "markdown",
   "metadata": {},
   "source": [
    "### 1. City"
   ]
  },
  {
   "cell_type": "markdown",
   "metadata": {},
   "source": [
    "Количество городов в представленном датасете - 31. Пропусков нет. Максимальное число ресторанов в одном городе - 5757 (Лондон), минимальное - 183 (Любляна). Представлены столичные города, а также второй-третий по величине город всех европейских регионов (запад, восток, север, юг). Причем все города находятся в составе экономически развитых государств с большим количеством туристов. \n",
    "\n",
    "Для целей будущего анализа создан словарь, сопоставляющий город с национальной кухней.\n",
    "\n",
    "При подготовке модели данный столбец использовать не будем."
   ]
  },
  {
   "cell_type": "code",
   "execution_count": null,
   "metadata": {},
   "outputs": [],
   "source": [
    "len(df.city.value_counts())"
   ]
  },
  {
   "cell_type": "code",
   "execution_count": null,
   "metadata": {
    "scrolled": true
   },
   "outputs": [],
   "source": [
    "df.city.value_counts()"
   ]
  },
  {
   "cell_type": "code",
   "execution_count": 4,
   "metadata": {
    "scrolled": true
   },
   "outputs": [],
   "source": [
    "cities = df.city.unique()"
   ]
  },
  {
   "cell_type": "code",
   "execution_count": 5,
   "metadata": {},
   "outputs": [],
   "source": [
    "city_dict = {'London': 'British', 'Paris': 'French', \n",
    "             'Madrid': 'Spanish', 'Barcelona': 'Spanish',\n",
    "             'Berlin': 'German', 'Milan': 'Italy', \n",
    "             'Rome': 'Italy', 'Prague': 'Czech', \n",
    "             'Lisbon': 'Portuguese', 'Vienna': 'Austrian', \n",
    "             'Amsterdam': 'Dutch', 'Brussels': 'Belgian', \n",
    "             'Hamburg': 'German', 'Munich': 'German', \n",
    "             'Lyon': 'French', 'Stockholm': 'Swedish', \n",
    "             'Budapest': 'Hungarian', 'Warsaw': 'Polish', \n",
    "             'Dublin': 'Irish', 'Copenhagen': 'Danish', \n",
    "             'Athens': 'Greek', 'Edinburgh': 'Scottish', \n",
    "             'Zurich': 'Swiss', 'Oporto': 'Portuguese', \n",
    "             'Geneva': 'Swiss', 'Krakow': 'Polish', \n",
    "             'Oslo': 'Norwegian', 'Helsinki': 'Finland', \n",
    "             'Bratislava': 'Slovak', 'Luxembourg': 'Belgian', \n",
    "             'Ljubljana': 'Slovenian'\n",
    "            }"
   ]
  },
  {
   "cell_type": "markdown",
   "metadata": {},
   "source": [
    "### 2. Cuisine Style"
   ]
  },
  {
   "cell_type": "markdown",
   "metadata": {},
   "source": [
    "Наименования представленных в ресторане стилей кухонь (125 наименований) могут отражать принадлежность к определенному региону или государству, а также виды еды.\n",
    "Пропущенных значений - 9283 (23%). Наиболее распространенное число стилей кухонь - 1 (6698 ресторанов), 2 (5474), 3 (3969), 4 (3321), 5 (2672) и далее по убыванию. Максимальное число кухонь на один ресторан - 27, наблюдается в одном ресторане. Среднее число видов кухонь - 2.6.\n",
    "\n",
    "Замена пропусков. Частично (40%) пустые значения заполнил в результате поиска ключевых слов в отзывах. Остальные пропуски заполнил исходя из национальной кухни в соответствии с городом расположения ресторана.\n",
    "\n",
    "Перевод данного признака в цифровой вид осуществил через создание dummy-переменных. Для этого выделил 20 самых распространенных стилей. Также некоторые стили объединил в один: 'Vegetarian Friendly' и 'Vegan Options', 'Japanese' и 'Sushi', ('Bar', 'Pub', 'Wine Bar', 'Brew Pub', 'Gastropub'), ('Fast Food', 'Street Food, 'Delicatessen')."
   ]
  },
  {
   "cell_type": "code",
   "execution_count": 6,
   "metadata": {},
   "outputs": [],
   "source": [
    "df.cuisine_style = df.cuisine_style\\\n",
    "    .map(lambda x: str(x)[1:][:-1])\n",
    "df.cuisine_style = df.cuisine_style\\\n",
    "    .map(lambda x: re.sub(r\"[']\", \"\", x))"
   ]
  },
  {
   "cell_type": "code",
   "execution_count": 7,
   "metadata": {},
   "outputs": [],
   "source": [
    "cuisines = set(df.cuisine_style.str.split(', ').sum())\n",
    "cuisines_dict = dict(zip(list(cuisines),\\\n",
    "                [i[1:6].lower() for i in cuisines]))\n",
    "# создано множество значений стилей кухонь и словарь: \n",
    "# ключи из множества стилей,значения - первые пять символов"
   ]
  },
  {
   "cell_type": "code",
   "execution_count": 8,
   "metadata": {},
   "outputs": [],
   "source": [
    "cuisines.remove('a')"
   ]
  },
  {
   "cell_type": "code",
   "execution_count": null,
   "metadata": {},
   "outputs": [],
   "source": [
    "a = pd.Series({x:df[df.cuisine_style.str.contains(x)]\\\n",
    "               .restaurant_id.count() for x in cuisines})\\\n",
    "               .sort_values(ascending = False)"
   ]
  },
  {
   "cell_type": "code",
   "execution_count": null,
   "metadata": {},
   "outputs": [],
   "source": [
    "len(a)"
   ]
  },
  {
   "cell_type": "code",
   "execution_count": null,
   "metadata": {},
   "outputs": [],
   "source": [
    "display(a.head(25))"
   ]
  },
  {
   "cell_type": "code",
   "execution_count": 9,
   "metadata": {},
   "outputs": [],
   "source": [
    "df['cuisine_count'] = df.cuisine_style.str.split()\\\n",
    "                      .str.len()"
   ]
  },
  {
   "cell_type": "code",
   "execution_count": 10,
   "metadata": {},
   "outputs": [
    {
     "data": {
      "text/plain": [
       "3.374075"
      ]
     },
     "execution_count": 10,
     "metadata": {},
     "output_type": "execute_result"
    }
   ],
   "source": [
    "df.cuisine_count.mean()"
   ]
  },
  {
   "cell_type": "code",
   "execution_count": 11,
   "metadata": {},
   "outputs": [],
   "source": [
    "def find_cuisine(x):\n",
    "    list = []\n",
    "    for k, v in cuisines_dict.items():\n",
    "        if x.find(v) >= 0:\n",
    "            list.append(k)\n",
    "    return list\n",
    "#ф-я поиска нахождения значений словаря в строке отзывов"
   ]
  },
  {
   "cell_type": "code",
   "execution_count": 12,
   "metadata": {},
   "outputs": [],
   "source": [
    "df['reviews_cuisine'] = df.reviews.apply(find_cuisine)\n",
    "#создал отдельный столбец с найдеными стилями"
   ]
  },
  {
   "cell_type": "code",
   "execution_count": 13,
   "metadata": {
    "scrolled": true
   },
   "outputs": [],
   "source": [
    "df.cuisine_style = np.select([df.cuisine_style == 'a'],\\\n",
    "            [df.reviews_cuisine], df.cuisine_style)\n",
    "#в моем случае значения NaN отображаются как 'a', заменил"
   ]
  },
  {
   "cell_type": "code",
   "execution_count": 14,
   "metadata": {},
   "outputs": [],
   "source": [
    "mask = df.cuisine_style.astype('str')\\\n",
    "                          .isin(['NaN', 'nan', '', '[]'])\n",
    "df.loc[mask, 'cuisine_style'] = df.loc[mask, 'city']\\\n",
    "                                   .map(city_dict)\n",
    "#замена пустых значений на национальные кухни по словарю"
   ]
  },
  {
   "cell_type": "code",
   "execution_count": 15,
   "metadata": {},
   "outputs": [
    {
     "data": {
      "text/plain": [
       "[a]                                                                                                                    7135\n",
       "Italian                                                                                                                1032\n",
       "French                                                                                                                  805\n",
       "[Bar, a]                                                                                                                731\n",
       "Spanish                                                                                                                 695\n",
       "                                                                                                                       ... \n",
       "Asian, Malaysian                                                                                                          1\n",
       "Indian, Asian, Pakistani, Middle Eastern, Halal, Vegetarian Friendly                                                      1\n",
       "Seafood, Italian, Mediterranean, European, Contemporary, Central European, Vegetarian Friendly, Gluten Free Options       1\n",
       "European, Portuguese, International, Fusion, Vegetarian Friendly                                                          1\n",
       "Cafe, British, Italian, Mediterranean, Vegetarian Friendly, Vegan Options                                                 1\n",
       "Name: cuisine_style, Length: 9268, dtype: int64"
      ]
     },
     "execution_count": 15,
     "metadata": {},
     "output_type": "execute_result"
    }
   ],
   "source": [
    "df.cuisine_style.value_counts()"
   ]
  },
  {
   "cell_type": "markdown",
   "metadata": {},
   "source": [
    "Далее создаю dummy-признаки. Не получилось воспользоваться методом get_dummies, т.к. может быть несколько значений."
   ]
  },
  {
   "cell_type": "code",
   "execution_count": 16,
   "metadata": {},
   "outputs": [],
   "source": [
    "df['veget_friendly'] = df.cuisine_style.str.count('Vegetarian Friendly')\n",
    "df['vegan_opt'] = df.cuisine_style.str.count('Vegan Options')\n",
    "df['vegan'] = df['veget_friendly'] + df['vegan_opt']\n",
    "df = df.drop(['veget_friendly', 'vegan_opt'], axis=1)"
   ]
  },
  {
   "cell_type": "code",
   "execution_count": 17,
   "metadata": {},
   "outputs": [],
   "source": [
    "df['european'] = df.cuisine_style.str.count('European')"
   ]
  },
  {
   "cell_type": "code",
   "execution_count": 18,
   "metadata": {},
   "outputs": [],
   "source": [
    "df['glutenfree'] = df.cuisine_style.str.count('Gluten Free Options')"
   ]
  },
  {
   "cell_type": "code",
   "execution_count": 19,
   "metadata": {},
   "outputs": [],
   "source": [
    "df['mediterranean'] = df.cuisine_style.str.count('Mediterranean')"
   ]
  },
  {
   "cell_type": "code",
   "execution_count": 20,
   "metadata": {},
   "outputs": [],
   "source": [
    "df['bar_s'] = df.cuisine_style.str.count('Bar')\n",
    "df['pub'] = df.cuisine_style.str.count('Pub')\n",
    "df['winebar'] = df.cuisine_style.str.count('Wine Bar')\n",
    "df['brew_pub'] = df.cuisine_style.str.count('Brew Pub')\n",
    "df['gastropub'] = df.cuisine_style.str.count('Gastropub')\n",
    "df['bar'] = df['bar_s'] + df['pub'] + df['winebar'] + df['brew_pub'] + df['gastropub']\n",
    "df = df.drop(['bar_s', 'pub', 'winebar', 'brew_pub', 'gastropub'], axis=1)"
   ]
  },
  {
   "cell_type": "code",
   "execution_count": 21,
   "metadata": {},
   "outputs": [],
   "source": [
    "df['italian'] = df.cuisine_style.str.count('Italian')"
   ]
  },
  {
   "cell_type": "code",
   "execution_count": 22,
   "metadata": {},
   "outputs": [],
   "source": [
    "df['pizza'] = df.cuisine_style.str.count('Pizza')"
   ]
  },
  {
   "cell_type": "code",
   "execution_count": 23,
   "metadata": {},
   "outputs": [],
   "source": [
    "df['french'] = df.cuisine_style.str.count('French')"
   ]
  },
  {
   "cell_type": "code",
   "execution_count": 24,
   "metadata": {},
   "outputs": [],
   "source": [
    "df['asian'] = df.cuisine_style.str.count('Asian')"
   ]
  },
  {
   "cell_type": "code",
   "execution_count": 25,
   "metadata": {},
   "outputs": [],
   "source": [
    "df['spanish'] = df.cuisine_style.str.count('Spanish')"
   ]
  },
  {
   "cell_type": "code",
   "execution_count": 26,
   "metadata": {},
   "outputs": [],
   "source": [
    "df['cafe'] = df.cuisine_style.str.count('Cafe')"
   ]
  },
  {
   "cell_type": "code",
   "execution_count": 27,
   "metadata": {},
   "outputs": [],
   "source": [
    "df['american'] = df.cuisine_style.str.count('American')"
   ]
  },
  {
   "cell_type": "code",
   "execution_count": 28,
   "metadata": {},
   "outputs": [],
   "source": [
    "df['british'] = df.cuisine_style.str.count('British')"
   ]
  },
  {
   "cell_type": "code",
   "execution_count": 29,
   "metadata": {},
   "outputs": [],
   "source": [
    "df['fast_food'] = df.cuisine_style.str.count('Fast Food')\n",
    "df['street_food'] = df.cuisine_style.str.count('Street Food')\n",
    "df['delicatessen'] = df.cuisine_style.str.count('Delicatessen')\n",
    "df['ff'] = df['fast_food'] + df['street_food'] + df['delicatessen']\n",
    "df = df.drop(['fast_food', 'street_food', 'delicatessen'], axis=1)"
   ]
  },
  {
   "cell_type": "code",
   "execution_count": 30,
   "metadata": {},
   "outputs": [],
   "source": [
    "df['international'] = df.cuisine_style.str.count('International')"
   ]
  },
  {
   "cell_type": "code",
   "execution_count": 31,
   "metadata": {},
   "outputs": [],
   "source": [
    "df['seafood'] = df.cuisine_style.str.count('Seafood')"
   ]
  },
  {
   "cell_type": "code",
   "execution_count": 32,
   "metadata": {},
   "outputs": [],
   "source": [
    "df['jap'] = df.cuisine_style.str.count('Japanese')\n",
    "df['sushi'] = df.cuisine_style.str.count('Sushi')\n",
    "df['japan'] = df['jap'] + df['sushi']\n",
    "df = df.drop(['jap', 'sushi'], axis=1)"
   ]
  },
  {
   "cell_type": "code",
   "execution_count": 33,
   "metadata": {},
   "outputs": [],
   "source": [
    "df['chinese'] = df.cuisine_style.str.count('Chinese')"
   ]
  },
  {
   "cell_type": "code",
   "execution_count": 34,
   "metadata": {},
   "outputs": [],
   "source": [
    "df['portuguese'] = df.cuisine_style.str.count('Portuguese')"
   ]
  },
  {
   "cell_type": "code",
   "execution_count": 35,
   "metadata": {},
   "outputs": [],
   "source": [
    "df['indian'] = df.cuisine_style.str.count('Indian')"
   ]
  },
  {
   "cell_type": "code",
   "execution_count": 36,
   "metadata": {},
   "outputs": [],
   "source": [
    "df['other'] = 0\n",
    "df.loc[(df['vegan'] == 0) & (df['european'] == 0) & \n",
    "    (df['glutenfree'] == 0) & (df['mediterranean'] == 0) &\n",
    "    (df['bar'] == 0) & (df['italian'] == 0) &\n",
    "    (df['pizza'] == 0) & (df['french'] == 0) &  \n",
    "    (df['spanish'] == 0) & (df['asian'] == 0) &  \n",
    "    (df['american'] == 0) & (df['cafe'] == 0) &  \n",
    "    (df['british'] == 0) & (df['ff'] == 0) &  \n",
    "    (df['international'] == 0) & (df['seafood'] == 0) &\n",
    "    (df['japan'] == 0) & (df['chinese'] == 0) &  \n",
    "    (df['portuguese'] == 0) & (df['indian'] == 0),\n",
    "       'other'] = 1"
   ]
  },
  {
   "cell_type": "code",
   "execution_count": 37,
   "metadata": {},
   "outputs": [
    {
     "data": {
      "text/html": [
       "<div>\n",
       "<style scoped>\n",
       "    .dataframe tbody tr th:only-of-type {\n",
       "        vertical-align: middle;\n",
       "    }\n",
       "\n",
       "    .dataframe tbody tr th {\n",
       "        vertical-align: top;\n",
       "    }\n",
       "\n",
       "    .dataframe thead th {\n",
       "        text-align: right;\n",
       "    }\n",
       "</style>\n",
       "<table border=\"1\" class=\"dataframe\">\n",
       "  <thead>\n",
       "    <tr style=\"text-align: right;\">\n",
       "      <th></th>\n",
       "      <th>restaurant_id</th>\n",
       "      <th>city</th>\n",
       "      <th>cuisine_style</th>\n",
       "      <th>ranking</th>\n",
       "      <th>rating</th>\n",
       "      <th>price_range</th>\n",
       "      <th>number_of_reviews</th>\n",
       "      <th>reviews</th>\n",
       "      <th>url_ta</th>\n",
       "      <th>id_ta</th>\n",
       "      <th>...</th>\n",
       "      <th>american</th>\n",
       "      <th>british</th>\n",
       "      <th>ff</th>\n",
       "      <th>international</th>\n",
       "      <th>seafood</th>\n",
       "      <th>japan</th>\n",
       "      <th>chinese</th>\n",
       "      <th>portuguese</th>\n",
       "      <th>indian</th>\n",
       "      <th>other</th>\n",
       "    </tr>\n",
       "  </thead>\n",
       "  <tbody>\n",
       "    <tr>\n",
       "      <td>0</td>\n",
       "      <td>id_5569</td>\n",
       "      <td>Paris</td>\n",
       "      <td>European, French, International</td>\n",
       "      <td>5570.0</td>\n",
       "      <td>3.5</td>\n",
       "      <td>$$ - $$$</td>\n",
       "      <td>194.0</td>\n",
       "      <td>[['Good food at your doorstep', 'A good hotel ...</td>\n",
       "      <td>/Restaurant_Review-g187147-d1912643-Reviews-R_...</td>\n",
       "      <td>d1912643</td>\n",
       "      <td>...</td>\n",
       "      <td>0.0</td>\n",
       "      <td>0.0</td>\n",
       "      <td>0.0</td>\n",
       "      <td>1.0</td>\n",
       "      <td>0.0</td>\n",
       "      <td>0.0</td>\n",
       "      <td>0.0</td>\n",
       "      <td>0.0</td>\n",
       "      <td>0.0</td>\n",
       "      <td>0</td>\n",
       "    </tr>\n",
       "    <tr>\n",
       "      <td>1</td>\n",
       "      <td>id_1535</td>\n",
       "      <td>Stockholm</td>\n",
       "      <td>[a]</td>\n",
       "      <td>1537.0</td>\n",
       "      <td>4.0</td>\n",
       "      <td>0</td>\n",
       "      <td>10.0</td>\n",
       "      <td>[['Unique cuisine', 'Delicious Nepalese food']...</td>\n",
       "      <td>/Restaurant_Review-g189852-d7992032-Reviews-Bu...</td>\n",
       "      <td>d7992032</td>\n",
       "      <td>...</td>\n",
       "      <td>0.0</td>\n",
       "      <td>0.0</td>\n",
       "      <td>0.0</td>\n",
       "      <td>0.0</td>\n",
       "      <td>0.0</td>\n",
       "      <td>0.0</td>\n",
       "      <td>0.0</td>\n",
       "      <td>0.0</td>\n",
       "      <td>0.0</td>\n",
       "      <td>0</td>\n",
       "    </tr>\n",
       "    <tr>\n",
       "      <td>2</td>\n",
       "      <td>id_352</td>\n",
       "      <td>London</td>\n",
       "      <td>Japanese, Sushi, Asian, Grill, Vegetarian Frie...</td>\n",
       "      <td>353.0</td>\n",
       "      <td>4.5</td>\n",
       "      <td>$$$$</td>\n",
       "      <td>688.0</td>\n",
       "      <td>[['Catch up with friends', 'Not exceptional'],...</td>\n",
       "      <td>/Restaurant_Review-g186338-d8632781-Reviews-RO...</td>\n",
       "      <td>d8632781</td>\n",
       "      <td>...</td>\n",
       "      <td>0.0</td>\n",
       "      <td>0.0</td>\n",
       "      <td>0.0</td>\n",
       "      <td>0.0</td>\n",
       "      <td>0.0</td>\n",
       "      <td>2.0</td>\n",
       "      <td>0.0</td>\n",
       "      <td>0.0</td>\n",
       "      <td>0.0</td>\n",
       "      <td>0</td>\n",
       "    </tr>\n",
       "    <tr>\n",
       "      <td>3</td>\n",
       "      <td>id_3456</td>\n",
       "      <td>Berlin</td>\n",
       "      <td>[a]</td>\n",
       "      <td>3458.0</td>\n",
       "      <td>5.0</td>\n",
       "      <td>0</td>\n",
       "      <td>3.0</td>\n",
       "      <td>[[], []]</td>\n",
       "      <td>/Restaurant_Review-g187323-d1358776-Reviews-Es...</td>\n",
       "      <td>d1358776</td>\n",
       "      <td>...</td>\n",
       "      <td>0.0</td>\n",
       "      <td>0.0</td>\n",
       "      <td>0.0</td>\n",
       "      <td>0.0</td>\n",
       "      <td>0.0</td>\n",
       "      <td>0.0</td>\n",
       "      <td>0.0</td>\n",
       "      <td>0.0</td>\n",
       "      <td>0.0</td>\n",
       "      <td>0</td>\n",
       "    </tr>\n",
       "    <tr>\n",
       "      <td>4</td>\n",
       "      <td>id_615</td>\n",
       "      <td>Munich</td>\n",
       "      <td>German, Central European, Vegetarian Friendly</td>\n",
       "      <td>621.0</td>\n",
       "      <td>4.0</td>\n",
       "      <td>$$ - $$$</td>\n",
       "      <td>84.0</td>\n",
       "      <td>[['Best place to try a Bavarian food', 'Nice b...</td>\n",
       "      <td>/Restaurant_Review-g187309-d6864963-Reviews-Au...</td>\n",
       "      <td>d6864963</td>\n",
       "      <td>...</td>\n",
       "      <td>0.0</td>\n",
       "      <td>0.0</td>\n",
       "      <td>0.0</td>\n",
       "      <td>0.0</td>\n",
       "      <td>0.0</td>\n",
       "      <td>0.0</td>\n",
       "      <td>0.0</td>\n",
       "      <td>0.0</td>\n",
       "      <td>0.0</td>\n",
       "      <td>0</td>\n",
       "    </tr>\n",
       "    <tr>\n",
       "      <td>...</td>\n",
       "      <td>...</td>\n",
       "      <td>...</td>\n",
       "      <td>...</td>\n",
       "      <td>...</td>\n",
       "      <td>...</td>\n",
       "      <td>...</td>\n",
       "      <td>...</td>\n",
       "      <td>...</td>\n",
       "      <td>...</td>\n",
       "      <td>...</td>\n",
       "      <td>...</td>\n",
       "      <td>...</td>\n",
       "      <td>...</td>\n",
       "      <td>...</td>\n",
       "      <td>...</td>\n",
       "      <td>...</td>\n",
       "      <td>...</td>\n",
       "      <td>...</td>\n",
       "      <td>...</td>\n",
       "      <td>...</td>\n",
       "      <td>...</td>\n",
       "    </tr>\n",
       "    <tr>\n",
       "      <td>39995</td>\n",
       "      <td>id_499</td>\n",
       "      <td>Milan</td>\n",
       "      <td>Italian, Vegetarian Friendly, Vegan Options, G...</td>\n",
       "      <td>500.0</td>\n",
       "      <td>4.5</td>\n",
       "      <td>$$ - $$$</td>\n",
       "      <td>79.0</td>\n",
       "      <td>[['The real Italian experience!', 'Wonderful f...</td>\n",
       "      <td>/Restaurant_Review-g187849-d2104414-Reviews-Ro...</td>\n",
       "      <td>d2104414</td>\n",
       "      <td>...</td>\n",
       "      <td>0.0</td>\n",
       "      <td>0.0</td>\n",
       "      <td>0.0</td>\n",
       "      <td>0.0</td>\n",
       "      <td>0.0</td>\n",
       "      <td>0.0</td>\n",
       "      <td>0.0</td>\n",
       "      <td>0.0</td>\n",
       "      <td>0.0</td>\n",
       "      <td>0</td>\n",
       "    </tr>\n",
       "    <tr>\n",
       "      <td>39996</td>\n",
       "      <td>id_6340</td>\n",
       "      <td>Paris</td>\n",
       "      <td>French, American, Bar, European, Vegetarian Fr...</td>\n",
       "      <td>6341.0</td>\n",
       "      <td>3.5</td>\n",
       "      <td>$$ - $$$</td>\n",
       "      <td>542.0</td>\n",
       "      <td>[['Parisian atmosphere', 'Bit pricey but inter...</td>\n",
       "      <td>/Restaurant_Review-g187147-d1800036-Reviews-La...</td>\n",
       "      <td>d1800036</td>\n",
       "      <td>...</td>\n",
       "      <td>1.0</td>\n",
       "      <td>0.0</td>\n",
       "      <td>0.0</td>\n",
       "      <td>0.0</td>\n",
       "      <td>0.0</td>\n",
       "      <td>0.0</td>\n",
       "      <td>0.0</td>\n",
       "      <td>0.0</td>\n",
       "      <td>0.0</td>\n",
       "      <td>0</td>\n",
       "    </tr>\n",
       "    <tr>\n",
       "      <td>39997</td>\n",
       "      <td>id_1649</td>\n",
       "      <td>Stockholm</td>\n",
       "      <td>Japanese, Sushi</td>\n",
       "      <td>1652.0</td>\n",
       "      <td>4.5</td>\n",
       "      <td>0</td>\n",
       "      <td>4.0</td>\n",
       "      <td>[['Good by swedish standards', 'A hidden jewel...</td>\n",
       "      <td>/Restaurant_Review-g189852-d947615-Reviews-Sus...</td>\n",
       "      <td>d947615</td>\n",
       "      <td>...</td>\n",
       "      <td>0.0</td>\n",
       "      <td>0.0</td>\n",
       "      <td>0.0</td>\n",
       "      <td>0.0</td>\n",
       "      <td>0.0</td>\n",
       "      <td>2.0</td>\n",
       "      <td>0.0</td>\n",
       "      <td>0.0</td>\n",
       "      <td>0.0</td>\n",
       "      <td>0</td>\n",
       "    </tr>\n",
       "    <tr>\n",
       "      <td>39998</td>\n",
       "      <td>id_640</td>\n",
       "      <td>Warsaw</td>\n",
       "      <td>Polish, European, Eastern European, Central Eu...</td>\n",
       "      <td>641.0</td>\n",
       "      <td>4.0</td>\n",
       "      <td>$$ - $$$</td>\n",
       "      <td>70.0</td>\n",
       "      <td>[['Underground restaurant', 'Oldest Restaurant...</td>\n",
       "      <td>/Restaurant_Review-g274856-d1100838-Reviews-Ho...</td>\n",
       "      <td>d1100838</td>\n",
       "      <td>...</td>\n",
       "      <td>0.0</td>\n",
       "      <td>0.0</td>\n",
       "      <td>0.0</td>\n",
       "      <td>0.0</td>\n",
       "      <td>0.0</td>\n",
       "      <td>0.0</td>\n",
       "      <td>0.0</td>\n",
       "      <td>0.0</td>\n",
       "      <td>0.0</td>\n",
       "      <td>0</td>\n",
       "    </tr>\n",
       "    <tr>\n",
       "      <td>39999</td>\n",
       "      <td>id_4824</td>\n",
       "      <td>Milan</td>\n",
       "      <td>Spanish</td>\n",
       "      <td>4827.0</td>\n",
       "      <td>3.0</td>\n",
       "      <td>$$ - $$$</td>\n",
       "      <td>260.0</td>\n",
       "      <td>[['Average', 'Nice an informal'], ['01/31/2016...</td>\n",
       "      <td>/Restaurant_Review-g187849-d1109020-Reviews-Ta...</td>\n",
       "      <td>d1109020</td>\n",
       "      <td>...</td>\n",
       "      <td>0.0</td>\n",
       "      <td>0.0</td>\n",
       "      <td>0.0</td>\n",
       "      <td>0.0</td>\n",
       "      <td>0.0</td>\n",
       "      <td>0.0</td>\n",
       "      <td>0.0</td>\n",
       "      <td>0.0</td>\n",
       "      <td>0.0</td>\n",
       "      <td>0</td>\n",
       "    </tr>\n",
       "  </tbody>\n",
       "</table>\n",
       "<p>40000 rows × 33 columns</p>\n",
       "</div>"
      ],
      "text/plain": [
       "      restaurant_id       city  \\\n",
       "0           id_5569      Paris   \n",
       "1           id_1535  Stockholm   \n",
       "2            id_352     London   \n",
       "3           id_3456     Berlin   \n",
       "4            id_615     Munich   \n",
       "...             ...        ...   \n",
       "39995        id_499      Milan   \n",
       "39996       id_6340      Paris   \n",
       "39997       id_1649  Stockholm   \n",
       "39998        id_640     Warsaw   \n",
       "39999       id_4824      Milan   \n",
       "\n",
       "                                           cuisine_style  ranking  rating  \\\n",
       "0                        European, French, International   5570.0     3.5   \n",
       "1                                                    [a]   1537.0     4.0   \n",
       "2      Japanese, Sushi, Asian, Grill, Vegetarian Frie...    353.0     4.5   \n",
       "3                                                    [a]   3458.0     5.0   \n",
       "4          German, Central European, Vegetarian Friendly    621.0     4.0   \n",
       "...                                                  ...      ...     ...   \n",
       "39995  Italian, Vegetarian Friendly, Vegan Options, G...    500.0     4.5   \n",
       "39996  French, American, Bar, European, Vegetarian Fr...   6341.0     3.5   \n",
       "39997                                    Japanese, Sushi   1652.0     4.5   \n",
       "39998  Polish, European, Eastern European, Central Eu...    641.0     4.0   \n",
       "39999                                            Spanish   4827.0     3.0   \n",
       "\n",
       "      price_range  number_of_reviews  \\\n",
       "0        $$ - $$$              194.0   \n",
       "1               0               10.0   \n",
       "2            $$$$              688.0   \n",
       "3               0                3.0   \n",
       "4        $$ - $$$               84.0   \n",
       "...           ...                ...   \n",
       "39995    $$ - $$$               79.0   \n",
       "39996    $$ - $$$              542.0   \n",
       "39997           0                4.0   \n",
       "39998    $$ - $$$               70.0   \n",
       "39999    $$ - $$$              260.0   \n",
       "\n",
       "                                                 reviews  \\\n",
       "0      [['Good food at your doorstep', 'A good hotel ...   \n",
       "1      [['Unique cuisine', 'Delicious Nepalese food']...   \n",
       "2      [['Catch up with friends', 'Not exceptional'],...   \n",
       "3                                               [[], []]   \n",
       "4      [['Best place to try a Bavarian food', 'Nice b...   \n",
       "...                                                  ...   \n",
       "39995  [['The real Italian experience!', 'Wonderful f...   \n",
       "39996  [['Parisian atmosphere', 'Bit pricey but inter...   \n",
       "39997  [['Good by swedish standards', 'A hidden jewel...   \n",
       "39998  [['Underground restaurant', 'Oldest Restaurant...   \n",
       "39999  [['Average', 'Nice an informal'], ['01/31/2016...   \n",
       "\n",
       "                                                  url_ta     id_ta  ...  \\\n",
       "0      /Restaurant_Review-g187147-d1912643-Reviews-R_...  d1912643  ...   \n",
       "1      /Restaurant_Review-g189852-d7992032-Reviews-Bu...  d7992032  ...   \n",
       "2      /Restaurant_Review-g186338-d8632781-Reviews-RO...  d8632781  ...   \n",
       "3      /Restaurant_Review-g187323-d1358776-Reviews-Es...  d1358776  ...   \n",
       "4      /Restaurant_Review-g187309-d6864963-Reviews-Au...  d6864963  ...   \n",
       "...                                                  ...       ...  ...   \n",
       "39995  /Restaurant_Review-g187849-d2104414-Reviews-Ro...  d2104414  ...   \n",
       "39996  /Restaurant_Review-g187147-d1800036-Reviews-La...  d1800036  ...   \n",
       "39997  /Restaurant_Review-g189852-d947615-Reviews-Sus...   d947615  ...   \n",
       "39998  /Restaurant_Review-g274856-d1100838-Reviews-Ho...  d1100838  ...   \n",
       "39999  /Restaurant_Review-g187849-d1109020-Reviews-Ta...  d1109020  ...   \n",
       "\n",
       "       american british   ff  international  seafood  japan  chinese  \\\n",
       "0           0.0     0.0  0.0            1.0      0.0    0.0      0.0   \n",
       "1           0.0     0.0  0.0            0.0      0.0    0.0      0.0   \n",
       "2           0.0     0.0  0.0            0.0      0.0    2.0      0.0   \n",
       "3           0.0     0.0  0.0            0.0      0.0    0.0      0.0   \n",
       "4           0.0     0.0  0.0            0.0      0.0    0.0      0.0   \n",
       "...         ...     ...  ...            ...      ...    ...      ...   \n",
       "39995       0.0     0.0  0.0            0.0      0.0    0.0      0.0   \n",
       "39996       1.0     0.0  0.0            0.0      0.0    0.0      0.0   \n",
       "39997       0.0     0.0  0.0            0.0      0.0    2.0      0.0   \n",
       "39998       0.0     0.0  0.0            0.0      0.0    0.0      0.0   \n",
       "39999       0.0     0.0  0.0            0.0      0.0    0.0      0.0   \n",
       "\n",
       "       portuguese  indian  other  \n",
       "0             0.0     0.0      0  \n",
       "1             0.0     0.0      0  \n",
       "2             0.0     0.0      0  \n",
       "3             0.0     0.0      0  \n",
       "4             0.0     0.0      0  \n",
       "...           ...     ...    ...  \n",
       "39995         0.0     0.0      0  \n",
       "39996         0.0     0.0      0  \n",
       "39997         0.0     0.0      0  \n",
       "39998         0.0     0.0      0  \n",
       "39999         0.0     0.0      0  \n",
       "\n",
       "[40000 rows x 33 columns]"
      ]
     },
     "execution_count": 37,
     "metadata": {},
     "output_type": "execute_result"
    }
   ],
   "source": [
    "df.fillna(0)"
   ]
  },
  {
   "cell_type": "markdown",
   "metadata": {},
   "source": [
    "### 3. Ranking"
   ]
  },
  {
   "cell_type": "markdown",
   "metadata": {},
   "source": [
    "Ординальный признак, отображающий место среди ресторанов своего города. Есть предположения, что это переработанный ключевой признак Rating, о чем свидетельствует довольно высокая корреляция. Для нормализации применил логарифмирование по основанию 2."
   ]
  },
  {
   "cell_type": "code",
   "execution_count": null,
   "metadata": {},
   "outputs": [],
   "source": [
    "def histogram(df):\n",
    "    sns.set()\n",
    "    f, axes = plt.subplots()\n",
    "    sns.distplot(df)"
   ]
  },
  {
   "cell_type": "code",
   "execution_count": null,
   "metadata": {},
   "outputs": [],
   "source": [
    "histogram(df.ranking)"
   ]
  },
  {
   "cell_type": "code",
   "execution_count": null,
   "metadata": {},
   "outputs": [],
   "source": [
    "sns.jointplot(df.ranking, df.rating, data=df, kind = 'reg');"
   ]
  },
  {
   "cell_type": "code",
   "execution_count": null,
   "metadata": {},
   "outputs": [],
   "source": [
    "correlation = df.corr()\n",
    "sns.heatmap(correlation, cmap = 'coolwarm');"
   ]
  },
  {
   "cell_type": "code",
   "execution_count": null,
   "metadata": {},
   "outputs": [],
   "source": [
    "correlation"
   ]
  },
  {
   "cell_type": "code",
   "execution_count": 38,
   "metadata": {},
   "outputs": [],
   "source": [
    "df.ranking = np.log2(df.ranking)"
   ]
  },
  {
   "cell_type": "markdown",
   "metadata": {},
   "source": [
    "### 4. Rating"
   ]
  },
  {
   "cell_type": "markdown",
   "metadata": {},
   "source": [
    "Целевой параметр. Распределен нормально. Выбросов нет."
   ]
  },
  {
   "cell_type": "code",
   "execution_count": null,
   "metadata": {},
   "outputs": [],
   "source": [
    "histogram(df.rating)"
   ]
  },
  {
   "cell_type": "code",
   "execution_count": null,
   "metadata": {},
   "outputs": [],
   "source": []
  },
  {
   "cell_type": "markdown",
   "metadata": {},
   "source": [
    "### 5. Price Range"
   ]
  },
  {
   "cell_type": "markdown",
   "metadata": {},
   "source": [
    "Ординальная переменная. Необходимо преобразовать данные. предположительно \"$\" - низкий уровень цен, \"$$-$$$\" - средний уровень цен, \"$$$$\" - высокий. Заменим на числа от 1 до 3, где 1 соответствует низкому уровню цен. Наибольшее число ресторанов относится к среднему ценовому диапазону (70%). Большое количество пропусков (35%). Данных для замены недостаточно, поэтому заменим пропуски средним значением по конкретному городу."
   ]
  },
  {
   "cell_type": "code",
   "execution_count": null,
   "metadata": {},
   "outputs": [],
   "source": [
    "df.price_range.value_counts()"
   ]
  },
  {
   "cell_type": "code",
   "execution_count": 39,
   "metadata": {},
   "outputs": [],
   "source": [
    "df.price_range = df.price_range.replace('$', 1)\n",
    "df.price_range = df.price_range.replace('$$ - $$$', 2)\n",
    "df.price_range = df.price_range.replace('$$$$', 3)"
   ]
  },
  {
   "cell_type": "code",
   "execution_count": 40,
   "metadata": {},
   "outputs": [],
   "source": [
    "city_price = {}\n",
    "for city in cities:\n",
    "    city_price[city] = df.price_range[df.city == city].mean()\n",
    "for city in cities:\n",
    "    mask = (df.city == city) & df.price_range.isna()\n",
    "    df.loc[mask, 'price_range'] = city_price[city]"
   ]
  },
  {
   "cell_type": "markdown",
   "metadata": {},
   "source": [
    "### 6. Number of Reviews"
   ]
  },
  {
   "cell_type": "markdown",
   "metadata": {},
   "source": [
    "Числовой признак. Пустых значений нет. Среднее значение - 25. Большой разброс значений. Корреляция с ключевым параметром слабая. Выбросов достаточно много, чтобы их игнорировать. Выделю их в отдельную группу и введу категориальную переменную. Пропуски заменил на среднее значение."
   ]
  },
  {
   "cell_type": "code",
   "execution_count": 41,
   "metadata": {},
   "outputs": [],
   "source": [
    "mean_num_of_reviews = round(df.number_of_reviews\\\n",
    "                      .value_counts().mean())"
   ]
  },
  {
   "cell_type": "code",
   "execution_count": 42,
   "metadata": {},
   "outputs": [],
   "source": [
    "df.number_of_reviews = df.number_of_reviews\\\n",
    "                          .fillna(mean_num_of_reviews)"
   ]
  },
  {
   "cell_type": "code",
   "execution_count": 43,
   "metadata": {
    "scrolled": true
   },
   "outputs": [
    {
     "ename": "NameError",
     "evalue": "name 'histogram' is not defined",
     "output_type": "error",
     "traceback": [
      "\u001b[1;31m---------------------------------------------------------------------------\u001b[0m",
      "\u001b[1;31mNameError\u001b[0m                                 Traceback (most recent call last)",
      "\u001b[1;32m<ipython-input-43-07f88aa9d518>\u001b[0m in \u001b[0;36m<module>\u001b[1;34m\u001b[0m\n\u001b[1;32m----> 1\u001b[1;33m \u001b[0mhistogram\u001b[0m\u001b[1;33m(\u001b[0m\u001b[0mdf\u001b[0m\u001b[1;33m.\u001b[0m\u001b[0mnumber_of_reviews\u001b[0m\u001b[1;33m)\u001b[0m\u001b[1;33m\u001b[0m\u001b[1;33m\u001b[0m\u001b[0m\n\u001b[0m",
      "\u001b[1;31mNameError\u001b[0m: name 'histogram' is not defined"
     ]
    }
   ],
   "source": [
    "histogram(df.number_of_reviews)"
   ]
  },
  {
   "cell_type": "code",
   "execution_count": 44,
   "metadata": {
    "scrolled": true
   },
   "outputs": [
    {
     "data": {
      "text/plain": [
       "count    40000.000000\n",
       "mean       118.542650\n",
       "std        287.127603\n",
       "min          2.000000\n",
       "25%         10.000000\n",
       "50%         28.000000\n",
       "75%        105.000000\n",
       "max       9660.000000\n",
       "Name: number_of_reviews, dtype: float64"
      ]
     },
     "execution_count": 44,
     "metadata": {},
     "output_type": "execute_result"
    }
   ],
   "source": [
    "df.number_of_reviews.describe()"
   ]
  },
  {
   "cell_type": "code",
   "execution_count": null,
   "metadata": {},
   "outputs": [],
   "source": [
    "df.number_of_reviews[df.number_of_reviews > 1000].hist()"
   ]
  },
  {
   "cell_type": "code",
   "execution_count": null,
   "metadata": {},
   "outputs": [],
   "source": [
    "df.number_of_reviews[df.number_of_reviews > 3000].hist()"
   ]
  },
  {
   "cell_type": "code",
   "execution_count": null,
   "metadata": {},
   "outputs": [],
   "source": [
    "sns.boxplot(df.number_of_reviews, color='yellow');"
   ]
  },
  {
   "cell_type": "code",
   "execution_count": null,
   "metadata": {},
   "outputs": [],
   "source": [
    "def outliers_iqr(ys):\n",
    "    quartile_1, quartile_3 = np.percentile(ys, [25, 75])\n",
    "    iqr = quartile_3 - quartile_1\n",
    "    lower_bound = quartile_1 - (iqr * 1.5)\n",
    "    upper_bound = quartile_3 + (iqr * 1.5)\n",
    "    return np.where((ys > upper_bound) | (ys < lower_bound))[0]"
   ]
  },
  {
   "cell_type": "code",
   "execution_count": null,
   "metadata": {},
   "outputs": [],
   "source": [
    "o = outliers_iqr(df.number_of_reviews)"
   ]
  },
  {
   "cell_type": "code",
   "execution_count": null,
   "metadata": {},
   "outputs": [],
   "source": [
    "len(o)"
   ]
  },
  {
   "cell_type": "code",
   "execution_count": 45,
   "metadata": {},
   "outputs": [],
   "source": [
    "median = df.number_of_reviews.median()\n",
    "std = df.number_of_reviews.std()\n",
    "perc25 = df.number_of_reviews.quantile(0.25)\n",
    "perc75 = df.number_of_reviews.quantile(0.75)\n",
    "lim_outliers = median + std*3\n",
    "IQR = perc75 - perc25"
   ]
  },
  {
   "cell_type": "code",
   "execution_count": 46,
   "metadata": {},
   "outputs": [],
   "source": [
    "def get_categ_variable(x):\n",
    "    if x <= perc25:\n",
    "        return 1\n",
    "    if perc25 < x <= median:\n",
    "        return 2\n",
    "    if median < x <= perc75:\n",
    "        return 3\n",
    "    if perc75 < x <= lim_outliers:\n",
    "        return 4\n",
    "    if lim_outliers < x:\n",
    "        return 5"
   ]
  },
  {
   "cell_type": "code",
   "execution_count": 47,
   "metadata": {
    "scrolled": true
   },
   "outputs": [],
   "source": [
    "df.number_of_reviews = df.number_of_reviews\\\n",
    "                           .apply(get_categ_variable)"
   ]
  },
  {
   "cell_type": "code",
   "execution_count": 48,
   "metadata": {},
   "outputs": [
    {
     "data": {
      "text/plain": [
       "1    10297\n",
       "2     9961\n",
       "3     9798\n",
       "4     9123\n",
       "5      821\n",
       "Name: number_of_reviews, dtype: int64"
      ]
     },
     "execution_count": 48,
     "metadata": {},
     "output_type": "execute_result"
    }
   ],
   "source": [
    "df.number_of_reviews.value_counts()"
   ]
  },
  {
   "cell_type": "code",
   "execution_count": 49,
   "metadata": {},
   "outputs": [],
   "source": [
    "df2 = pd.get_dummies(df.number_of_reviews)"
   ]
  },
  {
   "cell_type": "code",
   "execution_count": 50,
   "metadata": {},
   "outputs": [],
   "source": [
    "df = df.merge(df2, left_index=True, right_index=True)"
   ]
  },
  {
   "cell_type": "markdown",
   "metadata": {},
   "source": [
    "### 7. Reviews"
   ]
  },
  {
   "cell_type": "code",
   "execution_count": 52,
   "metadata": {},
   "outputs": [],
   "source": [
    "df['date_of_review'] = df.reviews.str.findall('\\d+/\\d+/\\d+')"
   ]
  },
  {
   "cell_type": "code",
   "execution_count": 53,
   "metadata": {},
   "outputs": [],
   "source": [
    "df['date_1'] = df.date_of_review.map(lambda x: str(x)[2:12])\n",
    "df['date_2'] = df.date_of_review.map(lambda x: str(x)[-12:-2])"
   ]
  },
  {
   "cell_type": "code",
   "execution_count": 54,
   "metadata": {},
   "outputs": [],
   "source": [
    "df.date_1 = pd.to_datetime(df.date_1)\n",
    "df.date_2 = pd.to_datetime(df.date_2)"
   ]
  },
  {
   "cell_type": "code",
   "execution_count": 55,
   "metadata": {},
   "outputs": [],
   "source": [
    "df['range_date'] = abs(df.date_1 - df.date_2)"
   ]
  },
  {
   "cell_type": "code",
   "execution_count": 56,
   "metadata": {},
   "outputs": [
    {
     "data": {
      "text/plain": [
       "0         41 days\n",
       "1        382 days\n",
       "2          2 days\n",
       "3          0 days\n",
       "4        272 days\n",
       "           ...   \n",
       "39995     34 days\n",
       "39996      9 days\n",
       "39997   3127 days\n",
       "39998     23 days\n",
       "39999   1306 days\n",
       "Name: range_date, Length: 40000, dtype: timedelta64[ns]"
      ]
     },
     "execution_count": 56,
     "metadata": {},
     "output_type": "execute_result"
    }
   ],
   "source": [
    "df['range_date'].fillna(pd.Timedelta('0 days'))"
   ]
  },
  {
   "cell_type": "code",
   "execution_count": 57,
   "metadata": {},
   "outputs": [],
   "source": [
    "df['range_date'] = np.int64(df['range_date'])"
   ]
  },
  {
   "cell_type": "code",
   "execution_count": null,
   "metadata": {
    "scrolled": true
   },
   "outputs": [],
   "source": [
    "df.range_date.value_counts()"
   ]
  },
  {
   "cell_type": "code",
   "execution_count": 70,
   "metadata": {
    "scrolled": true
   },
   "outputs": [
    {
     "data": {
      "text/html": [
       "<div>\n",
       "<style scoped>\n",
       "    .dataframe tbody tr th:only-of-type {\n",
       "        vertical-align: middle;\n",
       "    }\n",
       "\n",
       "    .dataframe tbody tr th {\n",
       "        vertical-align: top;\n",
       "    }\n",
       "\n",
       "    .dataframe thead th {\n",
       "        text-align: right;\n",
       "    }\n",
       "</style>\n",
       "<table border=\"1\" class=\"dataframe\">\n",
       "  <thead>\n",
       "    <tr style=\"text-align: right;\">\n",
       "      <th></th>\n",
       "      <th>ranking</th>\n",
       "      <th>rating</th>\n",
       "      <th>price_range</th>\n",
       "      <th>number_of_reviews</th>\n",
       "      <th>vegan</th>\n",
       "      <th>european</th>\n",
       "      <th>glutenfree</th>\n",
       "      <th>mediterranean</th>\n",
       "      <th>bar</th>\n",
       "      <th>italian</th>\n",
       "      <th>...</th>\n",
       "      <th>japan</th>\n",
       "      <th>chinese</th>\n",
       "      <th>portuguese</th>\n",
       "      <th>indian</th>\n",
       "      <th>other</th>\n",
       "      <th>1</th>\n",
       "      <th>2</th>\n",
       "      <th>3</th>\n",
       "      <th>4</th>\n",
       "      <th>5</th>\n",
       "    </tr>\n",
       "  </thead>\n",
       "  <tbody>\n",
       "    <tr>\n",
       "      <td>0</td>\n",
       "      <td>12.443462</td>\n",
       "      <td>3.5</td>\n",
       "      <td>2.000000</td>\n",
       "      <td>4</td>\n",
       "      <td>0.0</td>\n",
       "      <td>1.0</td>\n",
       "      <td>0.0</td>\n",
       "      <td>0.0</td>\n",
       "      <td>0.0</td>\n",
       "      <td>0.0</td>\n",
       "      <td>...</td>\n",
       "      <td>0.0</td>\n",
       "      <td>0.0</td>\n",
       "      <td>0.0</td>\n",
       "      <td>0.0</td>\n",
       "      <td>0</td>\n",
       "      <td>0</td>\n",
       "      <td>0</td>\n",
       "      <td>0</td>\n",
       "      <td>1</td>\n",
       "      <td>0</td>\n",
       "    </tr>\n",
       "    <tr>\n",
       "      <td>1</td>\n",
       "      <td>10.585901</td>\n",
       "      <td>4.0</td>\n",
       "      <td>1.943182</td>\n",
       "      <td>1</td>\n",
       "      <td>0.0</td>\n",
       "      <td>0.0</td>\n",
       "      <td>0.0</td>\n",
       "      <td>0.0</td>\n",
       "      <td>0.0</td>\n",
       "      <td>0.0</td>\n",
       "      <td>...</td>\n",
       "      <td>0.0</td>\n",
       "      <td>0.0</td>\n",
       "      <td>0.0</td>\n",
       "      <td>0.0</td>\n",
       "      <td>0</td>\n",
       "      <td>1</td>\n",
       "      <td>0</td>\n",
       "      <td>0</td>\n",
       "      <td>0</td>\n",
       "      <td>0</td>\n",
       "    </tr>\n",
       "    <tr>\n",
       "      <td>2</td>\n",
       "      <td>8.463524</td>\n",
       "      <td>4.5</td>\n",
       "      <td>3.000000</td>\n",
       "      <td>4</td>\n",
       "      <td>2.0</td>\n",
       "      <td>0.0</td>\n",
       "      <td>1.0</td>\n",
       "      <td>0.0</td>\n",
       "      <td>0.0</td>\n",
       "      <td>0.0</td>\n",
       "      <td>...</td>\n",
       "      <td>2.0</td>\n",
       "      <td>0.0</td>\n",
       "      <td>0.0</td>\n",
       "      <td>0.0</td>\n",
       "      <td>0</td>\n",
       "      <td>0</td>\n",
       "      <td>0</td>\n",
       "      <td>0</td>\n",
       "      <td>1</td>\n",
       "      <td>0</td>\n",
       "    </tr>\n",
       "    <tr>\n",
       "      <td>3</td>\n",
       "      <td>11.755722</td>\n",
       "      <td>5.0</td>\n",
       "      <td>1.754799</td>\n",
       "      <td>1</td>\n",
       "      <td>0.0</td>\n",
       "      <td>0.0</td>\n",
       "      <td>0.0</td>\n",
       "      <td>0.0</td>\n",
       "      <td>0.0</td>\n",
       "      <td>0.0</td>\n",
       "      <td>...</td>\n",
       "      <td>0.0</td>\n",
       "      <td>0.0</td>\n",
       "      <td>0.0</td>\n",
       "      <td>0.0</td>\n",
       "      <td>0</td>\n",
       "      <td>1</td>\n",
       "      <td>0</td>\n",
       "      <td>0</td>\n",
       "      <td>0</td>\n",
       "      <td>0</td>\n",
       "    </tr>\n",
       "    <tr>\n",
       "      <td>4</td>\n",
       "      <td>9.278449</td>\n",
       "      <td>4.0</td>\n",
       "      <td>2.000000</td>\n",
       "      <td>3</td>\n",
       "      <td>1.0</td>\n",
       "      <td>1.0</td>\n",
       "      <td>0.0</td>\n",
       "      <td>0.0</td>\n",
       "      <td>0.0</td>\n",
       "      <td>0.0</td>\n",
       "      <td>...</td>\n",
       "      <td>0.0</td>\n",
       "      <td>0.0</td>\n",
       "      <td>0.0</td>\n",
       "      <td>0.0</td>\n",
       "      <td>0</td>\n",
       "      <td>0</td>\n",
       "      <td>0</td>\n",
       "      <td>1</td>\n",
       "      <td>0</td>\n",
       "      <td>0</td>\n",
       "    </tr>\n",
       "    <tr>\n",
       "      <td>...</td>\n",
       "      <td>...</td>\n",
       "      <td>...</td>\n",
       "      <td>...</td>\n",
       "      <td>...</td>\n",
       "      <td>...</td>\n",
       "      <td>...</td>\n",
       "      <td>...</td>\n",
       "      <td>...</td>\n",
       "      <td>...</td>\n",
       "      <td>...</td>\n",
       "      <td>...</td>\n",
       "      <td>...</td>\n",
       "      <td>...</td>\n",
       "      <td>...</td>\n",
       "      <td>...</td>\n",
       "      <td>...</td>\n",
       "      <td>...</td>\n",
       "      <td>...</td>\n",
       "      <td>...</td>\n",
       "      <td>...</td>\n",
       "      <td>...</td>\n",
       "    </tr>\n",
       "    <tr>\n",
       "      <td>39995</td>\n",
       "      <td>8.965784</td>\n",
       "      <td>4.5</td>\n",
       "      <td>2.000000</td>\n",
       "      <td>3</td>\n",
       "      <td>2.0</td>\n",
       "      <td>0.0</td>\n",
       "      <td>1.0</td>\n",
       "      <td>0.0</td>\n",
       "      <td>0.0</td>\n",
       "      <td>1.0</td>\n",
       "      <td>...</td>\n",
       "      <td>0.0</td>\n",
       "      <td>0.0</td>\n",
       "      <td>0.0</td>\n",
       "      <td>0.0</td>\n",
       "      <td>0</td>\n",
       "      <td>0</td>\n",
       "      <td>0</td>\n",
       "      <td>1</td>\n",
       "      <td>0</td>\n",
       "      <td>0</td>\n",
       "    </tr>\n",
       "    <tr>\n",
       "      <td>39996</td>\n",
       "      <td>12.630495</td>\n",
       "      <td>3.5</td>\n",
       "      <td>2.000000</td>\n",
       "      <td>4</td>\n",
       "      <td>1.0</td>\n",
       "      <td>1.0</td>\n",
       "      <td>0.0</td>\n",
       "      <td>0.0</td>\n",
       "      <td>1.0</td>\n",
       "      <td>0.0</td>\n",
       "      <td>...</td>\n",
       "      <td>0.0</td>\n",
       "      <td>0.0</td>\n",
       "      <td>0.0</td>\n",
       "      <td>0.0</td>\n",
       "      <td>0</td>\n",
       "      <td>0</td>\n",
       "      <td>0</td>\n",
       "      <td>0</td>\n",
       "      <td>1</td>\n",
       "      <td>0</td>\n",
       "    </tr>\n",
       "    <tr>\n",
       "      <td>39997</td>\n",
       "      <td>10.689998</td>\n",
       "      <td>4.5</td>\n",
       "      <td>1.943182</td>\n",
       "      <td>1</td>\n",
       "      <td>0.0</td>\n",
       "      <td>0.0</td>\n",
       "      <td>0.0</td>\n",
       "      <td>0.0</td>\n",
       "      <td>0.0</td>\n",
       "      <td>0.0</td>\n",
       "      <td>...</td>\n",
       "      <td>2.0</td>\n",
       "      <td>0.0</td>\n",
       "      <td>0.0</td>\n",
       "      <td>0.0</td>\n",
       "      <td>0</td>\n",
       "      <td>1</td>\n",
       "      <td>0</td>\n",
       "      <td>0</td>\n",
       "      <td>0</td>\n",
       "      <td>0</td>\n",
       "    </tr>\n",
       "    <tr>\n",
       "      <td>39998</td>\n",
       "      <td>9.324181</td>\n",
       "      <td>4.0</td>\n",
       "      <td>2.000000</td>\n",
       "      <td>3</td>\n",
       "      <td>1.0</td>\n",
       "      <td>3.0</td>\n",
       "      <td>0.0</td>\n",
       "      <td>0.0</td>\n",
       "      <td>0.0</td>\n",
       "      <td>0.0</td>\n",
       "      <td>...</td>\n",
       "      <td>0.0</td>\n",
       "      <td>0.0</td>\n",
       "      <td>0.0</td>\n",
       "      <td>0.0</td>\n",
       "      <td>0</td>\n",
       "      <td>0</td>\n",
       "      <td>0</td>\n",
       "      <td>1</td>\n",
       "      <td>0</td>\n",
       "      <td>0</td>\n",
       "    </tr>\n",
       "    <tr>\n",
       "      <td>39999</td>\n",
       "      <td>12.236911</td>\n",
       "      <td>3.0</td>\n",
       "      <td>2.000000</td>\n",
       "      <td>4</td>\n",
       "      <td>0.0</td>\n",
       "      <td>0.0</td>\n",
       "      <td>0.0</td>\n",
       "      <td>0.0</td>\n",
       "      <td>0.0</td>\n",
       "      <td>0.0</td>\n",
       "      <td>...</td>\n",
       "      <td>0.0</td>\n",
       "      <td>0.0</td>\n",
       "      <td>0.0</td>\n",
       "      <td>0.0</td>\n",
       "      <td>0</td>\n",
       "      <td>0</td>\n",
       "      <td>0</td>\n",
       "      <td>0</td>\n",
       "      <td>1</td>\n",
       "      <td>0</td>\n",
       "    </tr>\n",
       "  </tbody>\n",
       "</table>\n",
       "<p>40000 rows × 30 columns</p>\n",
       "</div>"
      ],
      "text/plain": [
       "         ranking  rating  price_range  number_of_reviews  vegan  european  \\\n",
       "0      12.443462     3.5     2.000000                  4    0.0       1.0   \n",
       "1      10.585901     4.0     1.943182                  1    0.0       0.0   \n",
       "2       8.463524     4.5     3.000000                  4    2.0       0.0   \n",
       "3      11.755722     5.0     1.754799                  1    0.0       0.0   \n",
       "4       9.278449     4.0     2.000000                  3    1.0       1.0   \n",
       "...          ...     ...          ...                ...    ...       ...   \n",
       "39995   8.965784     4.5     2.000000                  3    2.0       0.0   \n",
       "39996  12.630495     3.5     2.000000                  4    1.0       1.0   \n",
       "39997  10.689998     4.5     1.943182                  1    0.0       0.0   \n",
       "39998   9.324181     4.0     2.000000                  3    1.0       3.0   \n",
       "39999  12.236911     3.0     2.000000                  4    0.0       0.0   \n",
       "\n",
       "       glutenfree  mediterranean  bar  italian  ...  japan  chinese  \\\n",
       "0             0.0            0.0  0.0      0.0  ...    0.0      0.0   \n",
       "1             0.0            0.0  0.0      0.0  ...    0.0      0.0   \n",
       "2             1.0            0.0  0.0      0.0  ...    2.0      0.0   \n",
       "3             0.0            0.0  0.0      0.0  ...    0.0      0.0   \n",
       "4             0.0            0.0  0.0      0.0  ...    0.0      0.0   \n",
       "...           ...            ...  ...      ...  ...    ...      ...   \n",
       "39995         1.0            0.0  0.0      1.0  ...    0.0      0.0   \n",
       "39996         0.0            0.0  1.0      0.0  ...    0.0      0.0   \n",
       "39997         0.0            0.0  0.0      0.0  ...    2.0      0.0   \n",
       "39998         0.0            0.0  0.0      0.0  ...    0.0      0.0   \n",
       "39999         0.0            0.0  0.0      0.0  ...    0.0      0.0   \n",
       "\n",
       "       portuguese  indian  other  1  2  3  4  5  \n",
       "0             0.0     0.0      0  0  0  0  1  0  \n",
       "1             0.0     0.0      0  1  0  0  0  0  \n",
       "2             0.0     0.0      0  0  0  0  1  0  \n",
       "3             0.0     0.0      0  1  0  0  0  0  \n",
       "4             0.0     0.0      0  0  0  1  0  0  \n",
       "...           ...     ...    ... .. .. .. .. ..  \n",
       "39995         0.0     0.0      0  0  0  1  0  0  \n",
       "39996         0.0     0.0      0  0  0  0  1  0  \n",
       "39997         0.0     0.0      0  1  0  0  0  0  \n",
       "39998         0.0     0.0      0  0  0  1  0  0  \n",
       "39999         0.0     0.0      0  0  0  0  1  0  \n",
       "\n",
       "[40000 rows x 30 columns]"
      ]
     },
     "metadata": {},
     "output_type": "display_data"
    }
   ],
   "source": [
    "display(df)"
   ]
  },
  {
   "cell_type": "code",
   "execution_count": 69,
   "metadata": {},
   "outputs": [],
   "source": [
    "df = df.fillna(0)"
   ]
  },
  {
   "cell_type": "code",
   "execution_count": 58,
   "metadata": {},
   "outputs": [],
   "source": [
    "df = df.drop(['restaurant_id', 'city', 'cuisine_style', 'reviews', 'url_ta', 'id_ta', 'date_of_review', 'date_1', 'date_2', 'cuisine_count', 'reviews_cuisine', 'range_date'], axis=1)"
   ]
  },
  {
   "cell_type": "markdown",
   "metadata": {},
   "source": [
    "# Разбиваем датафрейм на части, необходимые для обучения и тестирования модели"
   ]
  },
  {
   "cell_type": "code",
   "execution_count": 71,
   "metadata": {},
   "outputs": [],
   "source": [
    "# Х - данные с информацией о ресторанах, у - целевая переменная (рейтинги ресторанов)\n",
    "X = df.drop(['rating'], axis = 1)\n",
    "y = df['rating']"
   ]
  },
  {
   "cell_type": "code",
   "execution_count": 72,
   "metadata": {},
   "outputs": [
    {
     "data": {
      "text/plain": [
       "0        3.5\n",
       "1        4.0\n",
       "2        4.5\n",
       "3        5.0\n",
       "4        4.0\n",
       "        ... \n",
       "39995    4.5\n",
       "39996    3.5\n",
       "39997    4.5\n",
       "39998    4.0\n",
       "39999    3.0\n",
       "Name: rating, Length: 40000, dtype: float64"
      ]
     },
     "metadata": {},
     "output_type": "display_data"
    }
   ],
   "source": [
    "display(y)"
   ]
  },
  {
   "cell_type": "code",
   "execution_count": 73,
   "metadata": {},
   "outputs": [],
   "source": [
    "# Загружаем специальный инструмент для разбивки:\n",
    "from sklearn.model_selection import train_test_split"
   ]
  },
  {
   "cell_type": "code",
   "execution_count": 74,
   "metadata": {},
   "outputs": [],
   "source": [
    "# Наборы данных с меткой \"train\" будут использоваться для обучения модели, \"test\" - для тестирования.\n",
    "# Для тестирования мы будем использовать 25% от исходного датасета.\n",
    "X_train, X_test, y_train, y_test = train_test_split(X, y, test_size=0.25)"
   ]
  },
  {
   "cell_type": "markdown",
   "metadata": {},
   "source": [
    "# Создаём, обучаем и тестируем модель"
   ]
  },
  {
   "cell_type": "code",
   "execution_count": 75,
   "metadata": {},
   "outputs": [],
   "source": [
    "# Импортируем необходимые библиотеки:\n",
    "from sklearn.ensemble import RandomForestRegressor # инструмент для создания и обучения модели\n",
    "from sklearn import metrics # инструменты для оценки точности модели"
   ]
  },
  {
   "cell_type": "code",
   "execution_count": 76,
   "metadata": {},
   "outputs": [],
   "source": [
    "# Создаём модель\n",
    "regr = RandomForestRegressor(n_estimators=100)\n",
    "\n",
    "# Обучаем модель на тестовом наборе данных\n",
    "regr.fit(X_train, y_train)\n",
    "\n",
    "# Используем обученную модель для предсказания рейтинга ресторанов в тестовой выборке.\n",
    "# Предсказанные значения записываем в переменную y_pred\n",
    "y_pred = regr.predict(X_test)"
   ]
  },
  {
   "cell_type": "code",
   "execution_count": 77,
   "metadata": {},
   "outputs": [
    {
     "name": "stdout",
     "output_type": "stream",
     "text": [
      "MAE: 0.31263982976190474\n"
     ]
    }
   ],
   "source": [
    "# Сравниваем предсказанные значения (y_pred) с реальными (y_test), и смотрим насколько они в среднем отличаются\n",
    "# Метрика называется Mean Absolute Error (MAE) и показывает среднее отклонение предсказанных значений от фактических.\n",
    "print('MAE:', metrics.mean_absolute_error(y_test, y_pred))"
   ]
  },
  {
   "cell_type": "code",
   "execution_count": null,
   "metadata": {},
   "outputs": [],
   "source": []
  }
 ],
 "metadata": {
  "kernelspec": {
   "display_name": "Python 3",
   "language": "python",
   "name": "python3"
  },
  "language_info": {
   "codemirror_mode": {
    "name": "ipython",
    "version": 3
   },
   "file_extension": ".py",
   "mimetype": "text/x-python",
   "name": "python",
   "nbconvert_exporter": "python",
   "pygments_lexer": "ipython3",
   "version": "3.7.4"
  }
 },
 "nbformat": 4,
 "nbformat_minor": 2
}
