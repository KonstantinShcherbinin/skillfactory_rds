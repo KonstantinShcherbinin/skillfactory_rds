{
 "cells": [
  {
   "cell_type": "code",
   "execution_count": 2,
   "metadata": {
    "_cell_guid": "b1076dfc-b9ad-4769-8c92-a6c4dae69d19",
    "_uuid": "8f2839f25d086af736a60e9eeb907d3b93b6e0e5"
   },
   "outputs": [],
   "source": [
    "import numpy as np\n",
    "import pandas as pd\n",
    "import seaborn as sns\n",
    "import matplotlib.pyplot as plt\n",
    "import os\n",
    "from collections import Counter\n",
    "print(os.listdir(\"../input\"))"
   ]
  },
  {
   "cell_type": "code",
   "execution_count": 3,
   "metadata": {},
   "outputs": [],
   "source": [
    "data = pd.read_csv('C:/Users/rbt/Python/data.csv')"
   ]
  },
  {
   "cell_type": "code",
   "execution_count": null,
   "metadata": {},
   "outputs": [],
   "source": [
    "len(data)"
   ]
  },
  {
   "cell_type": "markdown",
   "metadata": {},
   "source": [
    "# Предобработка датасета"
   ]
  },
  {
   "cell_type": "code",
   "execution_count": 4,
   "metadata": {},
   "outputs": [
    {
     "data": {
      "text/html": [
       "<div>\n",
       "<style scoped>\n",
       "    .dataframe tbody tr th:only-of-type {\n",
       "        vertical-align: middle;\n",
       "    }\n",
       "\n",
       "    .dataframe tbody tr th {\n",
       "        vertical-align: top;\n",
       "    }\n",
       "\n",
       "    .dataframe thead th {\n",
       "        text-align: right;\n",
       "    }\n",
       "</style>\n",
       "<table border=\"1\" class=\"dataframe\">\n",
       "  <thead>\n",
       "    <tr style=\"text-align: right;\">\n",
       "      <th></th>\n",
       "      <th>imdb_id</th>\n",
       "      <th>popularity</th>\n",
       "      <th>budget</th>\n",
       "      <th>revenue</th>\n",
       "      <th>fin_res</th>\n",
       "      <th>original_title</th>\n",
       "      <th>title_lower</th>\n",
       "      <th>title_length</th>\n",
       "      <th>title_words</th>\n",
       "      <th>cast</th>\n",
       "      <th>...</th>\n",
       "      <th>overview</th>\n",
       "      <th>runtime</th>\n",
       "      <th>genres</th>\n",
       "      <th>production_companies</th>\n",
       "      <th>release_date</th>\n",
       "      <th>release_month</th>\n",
       "      <th>vote_count</th>\n",
       "      <th>vote_average</th>\n",
       "      <th>release_year</th>\n",
       "      <th>num</th>\n",
       "    </tr>\n",
       "  </thead>\n",
       "  <tbody>\n",
       "    <tr>\n",
       "      <th>0</th>\n",
       "      <td>tt0369610</td>\n",
       "      <td>32.985763</td>\n",
       "      <td>150000000</td>\n",
       "      <td>1513528810</td>\n",
       "      <td>1363528810</td>\n",
       "      <td>Jurassic World</td>\n",
       "      <td>jurassic world</td>\n",
       "      <td>14</td>\n",
       "      <td>2</td>\n",
       "      <td>Chris Pratt|Bryce Dallas Howard|Irrfan Khan|Vi...</td>\n",
       "      <td>...</td>\n",
       "      <td>Twenty-two years after the events of Jurassic ...</td>\n",
       "      <td>124</td>\n",
       "      <td>Action|Adventure|Science Fiction|Thriller</td>\n",
       "      <td>Universal Studios|Amblin Entertainment|Legenda...</td>\n",
       "      <td>2015-06-09</td>\n",
       "      <td>6</td>\n",
       "      <td>5562</td>\n",
       "      <td>6.5</td>\n",
       "      <td>2015</td>\n",
       "      <td>1</td>\n",
       "    </tr>\n",
       "    <tr>\n",
       "      <th>1</th>\n",
       "      <td>tt1392190</td>\n",
       "      <td>28.419936</td>\n",
       "      <td>150000000</td>\n",
       "      <td>378436354</td>\n",
       "      <td>228436354</td>\n",
       "      <td>Mad Max: Fury Road</td>\n",
       "      <td>mad max: fury road</td>\n",
       "      <td>18</td>\n",
       "      <td>4</td>\n",
       "      <td>Tom Hardy|Charlize Theron|Hugh Keays-Byrne|Nic...</td>\n",
       "      <td>...</td>\n",
       "      <td>An apocalyptic story set in the furthest reach...</td>\n",
       "      <td>120</td>\n",
       "      <td>Action|Adventure|Science Fiction|Thriller</td>\n",
       "      <td>Village Roadshow Pictures|Kennedy Miller Produ...</td>\n",
       "      <td>2015-05-13</td>\n",
       "      <td>5</td>\n",
       "      <td>6185</td>\n",
       "      <td>7.1</td>\n",
       "      <td>2015</td>\n",
       "      <td>1</td>\n",
       "    </tr>\n",
       "    <tr>\n",
       "      <th>2</th>\n",
       "      <td>tt2908446</td>\n",
       "      <td>13.112507</td>\n",
       "      <td>110000000</td>\n",
       "      <td>295238201</td>\n",
       "      <td>185238201</td>\n",
       "      <td>Insurgent</td>\n",
       "      <td>insurgent</td>\n",
       "      <td>9</td>\n",
       "      <td>1</td>\n",
       "      <td>Shailene Woodley|Theo James|Kate Winslet|Ansel...</td>\n",
       "      <td>...</td>\n",
       "      <td>Beatrice Prior must confront her inner demons ...</td>\n",
       "      <td>119</td>\n",
       "      <td>Adventure|Science Fiction|Thriller</td>\n",
       "      <td>Summit Entertainment|Mandeville Films|Red Wago...</td>\n",
       "      <td>2015-03-18</td>\n",
       "      <td>3</td>\n",
       "      <td>2480</td>\n",
       "      <td>6.3</td>\n",
       "      <td>2015</td>\n",
       "      <td>1</td>\n",
       "    </tr>\n",
       "    <tr>\n",
       "      <th>3</th>\n",
       "      <td>tt2488496</td>\n",
       "      <td>11.173104</td>\n",
       "      <td>200000000</td>\n",
       "      <td>2068178225</td>\n",
       "      <td>1868178225</td>\n",
       "      <td>Star Wars: The Force Awakens</td>\n",
       "      <td>star wars: the force awakens</td>\n",
       "      <td>28</td>\n",
       "      <td>5</td>\n",
       "      <td>Harrison Ford|Mark Hamill|Carrie Fisher|Adam D...</td>\n",
       "      <td>...</td>\n",
       "      <td>Thirty years after defeating the Galactic Empi...</td>\n",
       "      <td>136</td>\n",
       "      <td>Action|Adventure|Science Fiction|Fantasy</td>\n",
       "      <td>Lucasfilm|Truenorth Productions|Bad Robot</td>\n",
       "      <td>2015-12-15</td>\n",
       "      <td>12</td>\n",
       "      <td>5292</td>\n",
       "      <td>7.5</td>\n",
       "      <td>2015</td>\n",
       "      <td>1</td>\n",
       "    </tr>\n",
       "    <tr>\n",
       "      <th>4</th>\n",
       "      <td>tt2820852</td>\n",
       "      <td>9.335014</td>\n",
       "      <td>190000000</td>\n",
       "      <td>1506249360</td>\n",
       "      <td>1316249360</td>\n",
       "      <td>Furious 7</td>\n",
       "      <td>furious 7</td>\n",
       "      <td>9</td>\n",
       "      <td>2</td>\n",
       "      <td>Vin Diesel|Paul Walker|Jason Statham|Michelle ...</td>\n",
       "      <td>...</td>\n",
       "      <td>Deckard Shaw seeks revenge against Dominic Tor...</td>\n",
       "      <td>137</td>\n",
       "      <td>Action|Crime|Thriller</td>\n",
       "      <td>Universal Pictures|Original Film|Media Rights ...</td>\n",
       "      <td>2015-04-01</td>\n",
       "      <td>4</td>\n",
       "      <td>2947</td>\n",
       "      <td>7.3</td>\n",
       "      <td>2015</td>\n",
       "      <td>1</td>\n",
       "    </tr>\n",
       "  </tbody>\n",
       "</table>\n",
       "<p>5 rows × 22 columns</p>\n",
       "</div>"
      ],
      "text/plain": [
       "     imdb_id  popularity     budget     revenue     fin_res  \\\n",
       "0  tt0369610   32.985763  150000000  1513528810  1363528810   \n",
       "1  tt1392190   28.419936  150000000   378436354   228436354   \n",
       "2  tt2908446   13.112507  110000000   295238201   185238201   \n",
       "3  tt2488496   11.173104  200000000  2068178225  1868178225   \n",
       "4  tt2820852    9.335014  190000000  1506249360  1316249360   \n",
       "\n",
       "                 original_title                   title_lower  title_length  \\\n",
       "0                Jurassic World                jurassic world            14   \n",
       "1            Mad Max: Fury Road            mad max: fury road            18   \n",
       "2                     Insurgent                     insurgent             9   \n",
       "3  Star Wars: The Force Awakens  star wars: the force awakens            28   \n",
       "4                     Furious 7                     furious 7             9   \n",
       "\n",
       "   title_words                                               cast  ...  \\\n",
       "0            2  Chris Pratt|Bryce Dallas Howard|Irrfan Khan|Vi...  ...   \n",
       "1            4  Tom Hardy|Charlize Theron|Hugh Keays-Byrne|Nic...  ...   \n",
       "2            1  Shailene Woodley|Theo James|Kate Winslet|Ansel...  ...   \n",
       "3            5  Harrison Ford|Mark Hamill|Carrie Fisher|Adam D...  ...   \n",
       "4            2  Vin Diesel|Paul Walker|Jason Statham|Michelle ...  ...   \n",
       "\n",
       "                                            overview runtime  \\\n",
       "0  Twenty-two years after the events of Jurassic ...     124   \n",
       "1  An apocalyptic story set in the furthest reach...     120   \n",
       "2  Beatrice Prior must confront her inner demons ...     119   \n",
       "3  Thirty years after defeating the Galactic Empi...     136   \n",
       "4  Deckard Shaw seeks revenge against Dominic Tor...     137   \n",
       "\n",
       "                                      genres  \\\n",
       "0  Action|Adventure|Science Fiction|Thriller   \n",
       "1  Action|Adventure|Science Fiction|Thriller   \n",
       "2         Adventure|Science Fiction|Thriller   \n",
       "3   Action|Adventure|Science Fiction|Fantasy   \n",
       "4                      Action|Crime|Thriller   \n",
       "\n",
       "                                production_companies release_date  \\\n",
       "0  Universal Studios|Amblin Entertainment|Legenda...   2015-06-09   \n",
       "1  Village Roadshow Pictures|Kennedy Miller Produ...   2015-05-13   \n",
       "2  Summit Entertainment|Mandeville Films|Red Wago...   2015-03-18   \n",
       "3          Lucasfilm|Truenorth Productions|Bad Robot   2015-12-15   \n",
       "4  Universal Pictures|Original Film|Media Rights ...   2015-04-01   \n",
       "\n",
       "  release_month vote_count  vote_average  release_year  num  \n",
       "0             6       5562           6.5          2015    1  \n",
       "1             5       6185           7.1          2015    1  \n",
       "2             3       2480           6.3          2015    1  \n",
       "3            12       5292           7.5          2015    1  \n",
       "4             4       2947           7.3          2015    1  \n",
       "\n",
       "[5 rows x 22 columns]"
      ]
     },
     "execution_count": 4,
     "metadata": {},
     "output_type": "execute_result"
    }
   ],
   "source": [
    "answer_ls = [] # создадим список с ответами. сюда будем добавлять ответы по мере прохождения теста\n",
    "# сюда можем вписать создание новых колонок в датасете\n",
    "data.insert(4, 'fin_res', (data.revenue - data.budget))\n",
    "data.insert(17, 'num', int(1)) # для 27, 30 заданий :) Может, позже придумаю как его решить без этого\n",
    "data['release_date'] = pd.to_datetime(data['release_date'])\n",
    "data.insert(14, 'release_month', (data['release_date'].dt.month)) #добавил столбец \"месяц\" для 27 задания\n",
    "data.insert(6, 'title_length', (data.original_title.str.len())) #добавил столбец длины названия для 31 задания\n",
    "def number_of_words(x):\n",
    "    count = 0\n",
    "    flag = 0\n",
    "    for i in range(len(x)):\n",
    "        if x[i] != ' ' and flag == 0:\n",
    "            count += 1\n",
    "            flag = 1\n",
    "        else:\n",
    "            if x[i] == ' ':\n",
    "                flag = 0\n",
    "    return(count)\n",
    "data.insert(7, 'title_words', (data.original_title.apply(number_of_words))) #добавил столбец колич-ва слов \n",
    "                                                                            #в названии для 32 задания\n",
    "data.insert(6, 'title_lower', (data.original_title.str.lower())) #добавил столбец с нижним регистром названия для 33 задания\n",
    "data.head(5)"
   ]
  },
  {
   "cell_type": "markdown",
   "metadata": {},
   "source": [
    "# 1. У какого фильма из списка самый большой бюджет?\n",
    "Варианты ответов:\n",
    "1. The Dark Knight Rises (tt1345836)\n",
    "2. Spider-Man 3 (tt0413300)\n",
    "3. Avengers: Age of Ultron (tt2395427)\n",
    "4. The Warrior's Way\t(tt1032751)\n",
    "5. Pirates of the Caribbean: On Stranger Tides (tt1298650)"
   ]
  },
  {
   "cell_type": "code",
   "execution_count": null,
   "metadata": {},
   "outputs": [],
   "source": [
    "data.loc[data.budget == data.budget.max()]"
   ]
  },
  {
   "cell_type": "code",
   "execution_count": null,
   "metadata": {},
   "outputs": [],
   "source": [
    "answer_ls.append(4)\n",
    "# тут вводим ваш ответ и добавлем в его список ответов (сейчас для примера стоит \"1\")"
   ]
  },
  {
   "cell_type": "markdown",
   "metadata": {},
   "source": [
    "2. Какой из фильмов самый длительный (в минутах)\n",
    "1. The Lord of the Rings: The Return of the King\t(tt0167260)\n",
    "2. Gods and Generals\t(tt0279111)\n",
    "3. King Kong\t(tt0360717)\n",
    "4. Pearl Harbor\t(tt0213149)\n",
    "5. Alexander\t(tt0346491)"
   ]
  },
  {
   "cell_type": "code",
   "execution_count": null,
   "metadata": {},
   "outputs": [],
   "source": [
    "data.loc[data.runtime == data.runtime.max()]"
   ]
  },
  {
   "cell_type": "code",
   "execution_count": null,
   "metadata": {},
   "outputs": [],
   "source": [
    "answer_ls.append(2)"
   ]
  },
  {
   "cell_type": "markdown",
   "metadata": {},
   "source": [
    "# 3. Какой из фильмов самый короткий (в минутах)\n",
    "Варианты ответов:\n",
    "\n",
    "1. Home on the Range\ttt0299172\n",
    "2. The Jungle Book 2\ttt0283426\n",
    "3. Winnie the Pooh\ttt1449283\n",
    "4. Corpse Bride\ttt0121164\n",
    "5. Hoodwinked!\ttt0443536"
   ]
  },
  {
   "cell_type": "code",
   "execution_count": null,
   "metadata": {},
   "outputs": [],
   "source": [
    "data.loc[data.runtime == data.runtime.min()]"
   ]
  },
  {
   "cell_type": "code",
   "execution_count": null,
   "metadata": {},
   "outputs": [],
   "source": [
    "answer_ls.append(3)"
   ]
  },
  {
   "cell_type": "markdown",
   "metadata": {},
   "source": [
    "# 4. Средняя длительность фильма?\n",
    "\n",
    "Варианты ответов:\n",
    "1. 115\n",
    "2. 110\n",
    "3. 105\n",
    "4. 120\n",
    "5. 100\n"
   ]
  },
  {
   "cell_type": "code",
   "execution_count": null,
   "metadata": {},
   "outputs": [],
   "source": [
    "data.runtime.mean()"
   ]
  },
  {
   "cell_type": "code",
   "execution_count": null,
   "metadata": {},
   "outputs": [],
   "source": [
    "answer_ls.append(2)"
   ]
  },
  {
   "cell_type": "markdown",
   "metadata": {},
   "source": [
    "# 5. Средняя длительность фильма по медиане?\n",
    "Варианты ответов:\n",
    "1. 106\n",
    "2. 112\n",
    "3. 101\n",
    "4. 120\n",
    "5. 115\n",
    "\n",
    "\n"
   ]
  },
  {
   "cell_type": "code",
   "execution_count": null,
   "metadata": {},
   "outputs": [],
   "source": [
    "data.runtime.median()"
   ]
  },
  {
   "cell_type": "code",
   "execution_count": null,
   "metadata": {},
   "outputs": [],
   "source": [
    "answer_ls.append(1)"
   ]
  },
  {
   "cell_type": "markdown",
   "metadata": {},
   "source": [
    "# 6. Какой самый прибыльный фильм?\n",
    "Варианты ответов:\n",
    "1. The Avengers\ttt0848228\n",
    "2. Minions\ttt2293640\n",
    "3. Star Wars: The Force Awakens\ttt2488496\n",
    "4. Furious 7\ttt2820852\n",
    "5. Avatar\ttt0499549"
   ]
  },
  {
   "cell_type": "code",
   "execution_count": null,
   "metadata": {},
   "outputs": [],
   "source": [
    "data.loc[(data.revenue - data.budget) == (data.revenue - data.budget).max()]"
   ]
  },
  {
   "cell_type": "code",
   "execution_count": null,
   "metadata": {},
   "outputs": [],
   "source": [
    "answer_ls.append(5)"
   ]
  },
  {
   "cell_type": "markdown",
   "metadata": {},
   "source": [
    "# 7. Какой фильм самый убыточный?\n",
    "Варианты ответов:\n",
    "1. Supernova tt0134983\n",
    "2. The Warrior's Way tt1032751\n",
    "3. Flushed Away\ttt0424095\n",
    "4. The Adventures of Pluto Nash\ttt0180052\n",
    "5. The Lone Ranger\ttt1210819"
   ]
  },
  {
   "cell_type": "code",
   "execution_count": null,
   "metadata": {},
   "outputs": [],
   "source": [
    "data.loc[(data.revenue - data.budget) == (data.revenue - data.budget).min()]"
   ]
  },
  {
   "cell_type": "code",
   "execution_count": null,
   "metadata": {},
   "outputs": [],
   "source": [
    "answer_ls.append(2)"
   ]
  },
  {
   "cell_type": "markdown",
   "metadata": {},
   "source": [
    "# 8. Сколько всего фильмов в прибыли?\n",
    "Варианты ответов:\n",
    "1. 1478\n",
    "2. 1520\n",
    "3. 1241\n",
    "4. 1135\n",
    "5. 1398\n"
   ]
  },
  {
   "cell_type": "code",
   "execution_count": null,
   "metadata": {},
   "outputs": [],
   "source": [
    "len(data.loc[(data.revenue - data.budget) > 0])"
   ]
  },
  {
   "cell_type": "code",
   "execution_count": null,
   "metadata": {},
   "outputs": [],
   "source": [
    "answer_ls.append(1)"
   ]
  },
  {
   "cell_type": "markdown",
   "metadata": {},
   "source": [
    "# 9. Самый прибыльный фильм в 2008 году?\n",
    "Варианты ответов:\n",
    "1. Madagascar: Escape 2 Africa\ttt0479952\n",
    "2. Iron Man\ttt0371746\n",
    "3. Kung Fu Panda\ttt0441773\n",
    "4. The Dark Knight\ttt0468569\n",
    "5. Mamma Mia!\ttt0795421"
   ]
  },
  {
   "cell_type": "code",
   "execution_count": null,
   "metadata": {},
   "outputs": [],
   "source": [
    "data_2008 = data.loc[data.release_year == 2008]\n",
    "data.loc[(data.revenue - data.budget) == (data_2008.revenue - data_2008.budget).max()]"
   ]
  },
  {
   "cell_type": "code",
   "execution_count": null,
   "metadata": {},
   "outputs": [],
   "source": [
    "answer_ls.append(4)"
   ]
  },
  {
   "cell_type": "markdown",
   "metadata": {},
   "source": [
    "# 10. Самый убыточный фильм за период с 2012 по 2014 (включительно)?\n",
    "Варианты ответов:\n",
    "1. Winter's Tale\ttt1837709\n",
    "2. Stolen\ttt1656186\n",
    "3. Broken City\ttt1235522\n",
    "4. Upside Down\ttt1374992\n",
    "5. The Lone Ranger\ttt1210819\n"
   ]
  },
  {
   "cell_type": "code",
   "execution_count": null,
   "metadata": {},
   "outputs": [],
   "source": [
    "data_12_14 = data.loc[(2012 <= data.release_year) & (data.release_year <= 2014)]\n",
    "data.loc[(data.revenue - data.budget) == (data_12_14.revenue - data_12_14.budget).min()]"
   ]
  },
  {
   "cell_type": "code",
   "execution_count": null,
   "metadata": {},
   "outputs": [],
   "source": [
    "answer_ls.append(5)"
   ]
  },
  {
   "cell_type": "markdown",
   "metadata": {},
   "source": [
    "# 11. Какого жанра фильмов больше всего?\n",
    "Варианты ответов:\n",
    "1. Action\n",
    "2. Adventure\n",
    "3. Drama\n",
    "4. Comedy\n",
    "5. Thriller"
   ]
  },
  {
   "cell_type": "code",
   "execution_count": null,
   "metadata": {},
   "outputs": [],
   "source": [
    "a = 'Action'\n",
    "def genres(x):\n",
    "    if a in x:\n",
    "        x = 1\n",
    "    else:\n",
    "        x = 0\n",
    "    return x\n",
    "print(a, '=', data.genres.apply(genres).sum())\n",
    "\n",
    "a = 'Adventure'\n",
    "def genres(x):\n",
    "    if a in x:\n",
    "        x = 1\n",
    "    else:\n",
    "        x = 0\n",
    "    return x\n",
    "print(a, '=', data.genres.apply(genres).sum())\n",
    "\n",
    "a = 'Drama'\n",
    "def genres(x):\n",
    "    if a in x:\n",
    "        x = 1\n",
    "    else:\n",
    "        x = 0\n",
    "    return x\n",
    "print(a, '=', data.genres.apply(genres).sum())\n",
    "\n",
    "a = 'Comedy'\n",
    "def genres(x):\n",
    "    if a in x:\n",
    "        x = 1\n",
    "    else:\n",
    "        x = 0\n",
    "    return x\n",
    "print(a, '=', data.genres.apply(genres).sum())\n",
    "\n",
    "a = 'Thriller'\n",
    "def genres(x):\n",
    "    if a in x:\n",
    "        x = 1\n",
    "    else:\n",
    "        x = 0\n",
    "    return x\n",
    "print(a, '=', data.genres.apply(genres).sum())"
   ]
  },
  {
   "cell_type": "code",
   "execution_count": null,
   "metadata": {},
   "outputs": [],
   "source": [
    "genres = set(data.genres.str.split('|').sum()) #создаем множество из жанров\n",
    "ab = pd.Series({x:data[data.genres.str.contains(x)].imdb_id.count()\n",
    "               for x in genres}).sort_values(ascending = False)\n",
    "ab"
   ]
  },
  {
   "cell_type": "code",
   "execution_count": null,
   "metadata": {},
   "outputs": [],
   "source": [
    "answer_ls.append(3)"
   ]
  },
  {
   "cell_type": "markdown",
   "metadata": {},
   "source": [
    "# 12. Какого жанра среди прибыльных фильмов больше всего?\n",
    "Варианты ответов:\n",
    "1. Drama\n",
    "2. Comedy\n",
    "3. Action\n",
    "4. Thriller\n",
    "5. Adventure"
   ]
  },
  {
   "cell_type": "code",
   "execution_count": null,
   "metadata": {},
   "outputs": [],
   "source": [
    "data_profit = data.loc[data.fin_res > 0]\n",
    "a = 'Action'\n",
    "def genres(x):\n",
    "    if a in x:\n",
    "        x = 1\n",
    "    else:\n",
    "        x = 0\n",
    "    return x\n",
    "print(a, '=', data_profit.genres.apply(genres).sum())\n",
    "\n",
    "a = 'Adventure'\n",
    "def genres(x):\n",
    "    if a in x:\n",
    "        x = 1\n",
    "    else:\n",
    "        x = 0\n",
    "    return x\n",
    "print(a, '=', data_profit.genres.apply(genres).sum())\n",
    "\n",
    "a = 'Drama'\n",
    "def genres(x):\n",
    "    if a in x:\n",
    "        x = 1\n",
    "    else:\n",
    "        x = 0\n",
    "    return x\n",
    "print(a, '=', data_profit.genres.apply(genres).sum())\n",
    "\n",
    "a = 'Comedy'\n",
    "def genres(x):\n",
    "    if a in x:\n",
    "        x = 1\n",
    "    else:\n",
    "        x = 0\n",
    "    return x\n",
    "print(a, '=', data_profit.genres.apply(genres).sum())\n",
    "\n",
    "a = 'Thriller'\n",
    "def genres(x):\n",
    "    if a in x:\n",
    "        x = 1\n",
    "    else:\n",
    "        x = 0\n",
    "    return x\n",
    "print(a, '=', data_profit.genres.apply(genres).sum())"
   ]
  },
  {
   "cell_type": "code",
   "execution_count": null,
   "metadata": {},
   "outputs": [],
   "source": [
    "genres = set(data.genres.str.split('|').sum()) #создаем множество из жанров\n",
    "aa = pd.Series({x:data_profit[data_profit.genres.str.contains(x)].imdb_id.count()\n",
    "               for x in genres}).sort_values(ascending = False)\n",
    "aa"
   ]
  },
  {
   "cell_type": "code",
   "execution_count": null,
   "metadata": {},
   "outputs": [],
   "source": [
    "answer_ls.append(1)"
   ]
  },
  {
   "cell_type": "markdown",
   "metadata": {},
   "source": [
    "# 13. Кто из режиссеров снял больше всего фильмов?\n",
    "Варианты ответов:\n",
    "1. Steven Spielberg\n",
    "2. Ridley Scott \n",
    "3. Steven Soderbergh\n",
    "4. Christopher Nolan\n",
    "5. Clint Eastwood"
   ]
  },
  {
   "cell_type": "code",
   "execution_count": null,
   "metadata": {},
   "outputs": [],
   "source": [
    "Steven_Spielberg = data[data.director.str.contains('Steven Spielberg', na = False)]\n",
    "print('Steven Spielberg =', len(Steven_Spielberg))\n",
    "Ridley_Scott = data[data.director.str.contains('Ridley Scott', na = False)]\n",
    "print('Ridley Scott =', len(Ridley_Scott))\n",
    "Steven_Soderbergh = data[data.director.str.contains('Steven Soderbergh', na = False)]\n",
    "print('Steven Soderbergh =', len(Steven_Soderbergh))\n",
    "Christopher_Nolan = data[data.director.str.contains('Christopher Nolan', na = False)]\n",
    "print('Christopher Nolan =', len(Christopher_Nolan))\n",
    "Clint_Eastwood = data[data.director.str.contains('Clint Eastwood', na = False)]\n",
    "print('Clint Eastwood =', len(Clint_Eastwood))"
   ]
  },
  {
   "cell_type": "code",
   "execution_count": null,
   "metadata": {},
   "outputs": [],
   "source": [
    "directors = set(data.director.str.split('|').sum())\n",
    "ab = pd.Series({x:data[data.director.str.contains(x)].imdb_id.count() \n",
    "               for x in directors}).sort_values(ascending = False)\n",
    "ab"
   ]
  },
  {
   "cell_type": "code",
   "execution_count": null,
   "metadata": {},
   "outputs": [],
   "source": [
    "answer_ls.append(3)"
   ]
  },
  {
   "cell_type": "markdown",
   "metadata": {},
   "source": [
    "# 14. Кто из режиссеров снял больше всего Прибыльных фильмов?\n",
    "Варианты ответов:\n",
    "1. Steven Soderbergh\n",
    "2. Clint Eastwood\n",
    "3. Steven Spielberg\n",
    "4. Ridley Scott\n",
    "5. Christopher Nolan"
   ]
  },
  {
   "cell_type": "code",
   "execution_count": null,
   "metadata": {},
   "outputs": [],
   "source": [
    "print('Steven Spielberg =', len(data_profit[data_profit.director.str.contains('Steven Spielberg', na = False)]))\n",
    "print('Ridley Scott =', len(data_profit[data_profit.director.str.contains('Ridley Scott', na = False)]))\n",
    "print('Steven Soderbergh =', len(data_profit[data_profit.director.str.contains('Steven Soderbergh', na = False)]))\n",
    "print('Christopher Nolan =', len(data_profit[data_profit.director.str.contains('Christopher Nolan', na = False)]))\n",
    "print('Clint Eastwood =', len(data_profit[data_profit.director.str.contains('Clint Eastwood', na = False)]))"
   ]
  },
  {
   "cell_type": "code",
   "execution_count": null,
   "metadata": {},
   "outputs": [],
   "source": [
    "data_profit = data.loc[data.fin_res > 0]\n",
    "directors = set(data.director.str.split('|').sum())\n",
    "ac = pd.Series({x:data_profit[data_profit.director.str.contains(x)].imdb_id.count() \n",
    "               for x in directors}).sort_values(ascending = False)\n",
    "ac"
   ]
  },
  {
   "cell_type": "code",
   "execution_count": null,
   "metadata": {},
   "outputs": [],
   "source": [
    "answer_ls.append(4)"
   ]
  },
  {
   "cell_type": "markdown",
   "metadata": {},
   "source": [
    "# 15. Кто из режиссеров принес больше всего прибыли?\n",
    "Варианты ответов:\n",
    "1. Steven Spielberg\n",
    "2. Christopher Nolan\n",
    "3. David Yates\n",
    "4. James Cameron\n",
    "5. Peter Jackson\n"
   ]
  },
  {
   "cell_type": "code",
   "execution_count": null,
   "metadata": {},
   "outputs": [],
   "source": [
    "print('Steven_Spielberg = ', Steven_Spielberg.fin_res.sum())\n",
    "print('Christopher_Nolan = ', Christopher_Nolan.fin_res.sum())\n",
    "David_Yates = data[data.director.str.contains('David Yates', na = False)]\n",
    "print('David_Yates = ', David_Yates.fin_res.sum())\n",
    "Peter_Jackson = data[data.director.str.contains('Peter Jackson', na = False)]\n",
    "print('Peter_Jackson = ', Peter_Jackson.fin_res.sum())\n",
    "James_Cameron = data[data.director.str.contains('James Cameron', na = False)]\n",
    "print('James_Cameron = ', James_Cameron.fin_res.sum())\n",
    "list = [Steven_Spielberg.fin_res.sum(), Christopher_Nolan.fin_res.sum(), David_Yates.fin_res.sum(),\n",
    "      Peter_Jackson.fin_res.sum(), James_Cameron.fin_res.sum()]\n",
    "print('max = ', max(list))"
   ]
  },
  {
   "cell_type": "code",
   "execution_count": null,
   "metadata": {},
   "outputs": [],
   "source": [
    "directors = set(data.director.str.split('|').sum())\n",
    "ad = pd.Series({x:data[data.director.str.contains(x)].fin_res.sum() \n",
    "               for x in directors}).sort_values(ascending = False)\n",
    "ad"
   ]
  },
  {
   "cell_type": "code",
   "execution_count": null,
   "metadata": {},
   "outputs": [],
   "source": [
    "answer_ls.append(5)"
   ]
  },
  {
   "cell_type": "markdown",
   "metadata": {},
   "source": [
    "# 16. Какой актер принес больше всего прибыли?\n",
    "Варианты ответов:\n",
    "1. Emma Watson\n",
    "2. Johnny Depp\n",
    "3. Michelle Rodriguez\n",
    "4. Orlando Bloom\n",
    "5. Rupert Grint"
   ]
  },
  {
   "cell_type": "code",
   "execution_count": null,
   "metadata": {},
   "outputs": [],
   "source": [
    "a = 'Emma Watson'\n",
    "def actor(x, y):\n",
    "    if a in x:\n",
    "        return y\n",
    "Emma_Watson = data.apply(lambda x: actor(x['cast'], x['fin_res']), axis = 1)\n",
    "print('Доходность', a, '= ', Emma_Watson.sum())\n",
    "\n",
    "a = 'Johnny Depp'\n",
    "def actor(x, y):\n",
    "    if a in x:\n",
    "        return y\n",
    "Johnny_Depp = data.apply(lambda x: actor(x['cast'], x['fin_res']), axis = 1)\n",
    "print('Доходность', a, '= ', Johnny_Depp.sum())\n",
    "\n",
    "a = 'Michelle Rodriguez'\n",
    "def actor(x, y):\n",
    "    if a in x:\n",
    "        return y\n",
    "Michelle_Rodriguez = data.apply(lambda x: actor(x['cast'], x['fin_res']), axis = 1)\n",
    "print('Доходность', a, '= ', Michelle_Rodriguez.sum())\n",
    "\n",
    "a = 'Orlando Bloom'\n",
    "def actor(x, y):\n",
    "    if a in x:\n",
    "        return y\n",
    "Orlando_Bloom = data.apply(lambda x: actor(x['cast'], x['fin_res']), axis = 1)\n",
    "print('Доходность', a, '= ', Orlando_Bloom.sum())\n",
    "\n",
    "a = 'Rupert Grint'\n",
    "def actor(x, y):\n",
    "    if a in x:\n",
    "        return y\n",
    "Rupert_Grint = data.apply(lambda x: actor(x['cast'], x['fin_res']), axis = 1)\n",
    "print('Доходность', a, '= ', Rupert_Grint.sum())"
   ]
  },
  {
   "cell_type": "code",
   "execution_count": null,
   "metadata": {},
   "outputs": [],
   "source": [
    "actors = set(data.cast.str.split('|').sum())\n",
    "b = pd.Series({x:data[data.cast.str.contains(x)].fin_res.sum() for x in actors}).sort_values(ascending = False)\n",
    "b"
   ]
  },
  {
   "cell_type": "code",
   "execution_count": null,
   "metadata": {},
   "outputs": [],
   "source": [
    "answer_ls.append(1)"
   ]
  },
  {
   "cell_type": "markdown",
   "metadata": {},
   "source": [
    "# 17. Какой актер принес меньше всего прибыли в 2012 году?\n",
    "Варианты ответов:\n",
    "1. Nicolas Cage\n",
    "2. Danny Huston\n",
    "3. Kirsten Dunst\n",
    "4. Jim Sturgess\n",
    "5. Sami Gayle"
   ]
  },
  {
   "cell_type": "code",
   "execution_count": null,
   "metadata": {},
   "outputs": [],
   "source": [
    "data_12 = data.loc[data.release_year == 2012]\n",
    "actors_12 = set(data_12.cast.str.split('|').sum())\n",
    "c = pd.Series({x:data_12[data_12.cast.str.contains(x)].fin_res.sum()\n",
    "               for x in actors_12}).sort_values(ascending = False)\n",
    "c"
   ]
  },
  {
   "cell_type": "code",
   "execution_count": null,
   "metadata": {},
   "outputs": [],
   "source": [
    "answer_ls.append(3)"
   ]
  },
  {
   "cell_type": "markdown",
   "metadata": {},
   "source": [
    "# 18. Какой актер снялся в большем количестве высокобюджетных фильмов? (в фильмах где бюджет выше среднего по данной выборке)\n",
    "Варианты ответов:\n",
    "1. Tom Cruise\n",
    "2. Mark Wahlberg \n",
    "3. Matt Damon\n",
    "4. Angelina Jolie\n",
    "5. Adam Sandler"
   ]
  },
  {
   "cell_type": "code",
   "execution_count": null,
   "metadata": {},
   "outputs": [],
   "source": [
    "data_bigger_average_budget = data.loc[data.budget > data.budget.mean()] #выделяем фильмы с бюджетом выше среднего\n",
    "actors_bigger_average_budget = set(data_bigger_average_budget.cast.str.split('|').sum()) #создаем множество из актеров\n",
    "d = pd.Series({x:data_bigger_average_budget[data_bigger_average_budget.cast.str.contains(x)].imdb_id.count() # magic!🧙‍\n",
    "               for x in actors_bigger_average_budget}).sort_values(ascending = False)\n",
    "d"
   ]
  },
  {
   "cell_type": "code",
   "execution_count": null,
   "metadata": {},
   "outputs": [],
   "source": [
    "answer_ls.append(3)"
   ]
  },
  {
   "cell_type": "markdown",
   "metadata": {},
   "source": [
    "# 19. В фильмах какого жанра больше всего снимался Nicolas Cage?  \n",
    "Варианты ответа:\n",
    "1. Drama\n",
    "2. Action\n",
    "3. Thriller\n",
    "4. Adventure\n",
    "5. Crime"
   ]
  },
  {
   "cell_type": "code",
   "execution_count": null,
   "metadata": {},
   "outputs": [],
   "source": [
    "genres = set(data.genres.str.split('|').sum()) #создаем множество из жанров\n",
    "data_Nicolas_Cage = data[data.cast.str.contains('Nicolas Cage', na = False)] #фильтруем датасет по имени в cast\n",
    "e = pd.Series({x:data_Nicolas_Cage[data_Nicolas_Cage.genres.str.contains(x)].imdb_id.count() # magic!🧙‍\n",
    "               for x in genres}).sort_values(ascending = False) \n",
    "e"
   ]
  },
  {
   "cell_type": "code",
   "execution_count": null,
   "metadata": {},
   "outputs": [],
   "source": [
    "answer_ls.append(2)"
   ]
  },
  {
   "cell_type": "markdown",
   "metadata": {},
   "source": [
    "# 20. Какая студия сняла больше всего фильмов?\n",
    "Варианты ответа:\n",
    "1. Universal Pictures (Universal)\n",
    "2. Paramount Pictures\n",
    "3. Columbia Pictures\n",
    "4. Warner Bros\n",
    "5. Twentieth Century Fox Film Corporation"
   ]
  },
  {
   "cell_type": "code",
   "execution_count": null,
   "metadata": {},
   "outputs": [],
   "source": [
    "production_companies = set(data.production_companies.str.split('|').sum()) #создаем множество из компаний\n",
    "f = pd.Series({x:data[data.production_companies.str.contains(x)].imdb_id.count() # magic!🧙‍\n",
    "               for x in production_companies}).sort_values(ascending = False)\n",
    "f"
   ]
  },
  {
   "cell_type": "code",
   "execution_count": null,
   "metadata": {},
   "outputs": [],
   "source": [
    "answer_ls.append(1)"
   ]
  },
  {
   "cell_type": "markdown",
   "metadata": {},
   "source": [
    "# 21. Какая студия сняла больше всего фильмов в 2015 году?\n",
    "Варианты ответа:\n",
    "1. Universal Pictures\n",
    "2. Paramount Pictures\n",
    "3. Columbia Pictures\n",
    "4. Warner Bros\n",
    "5. Twentieth Century Fox Film Corporation"
   ]
  },
  {
   "cell_type": "code",
   "execution_count": null,
   "metadata": {},
   "outputs": [],
   "source": [
    "data_15 = data.loc[data.release_year == 2015]\n",
    "production_companies_15 = set(data_15.production_companies.str.split('|').sum()) #создаем множество из компаний 2015 г\n",
    "g = pd.Series({x:data_15[data_15.production_companies.str.contains(x)].imdb_id.count() # magic!🧙‍\n",
    "               for x in production_companies_15}).sort_values(ascending = False)\n",
    "g"
   ]
  },
  {
   "cell_type": "code",
   "execution_count": null,
   "metadata": {},
   "outputs": [],
   "source": [
    "answer_ls.append(4)"
   ]
  },
  {
   "cell_type": "markdown",
   "metadata": {},
   "source": [
    "# 22. Какая студия заработала больше всего денег в жанре комедий за все время?\n",
    "Варианты ответа:\n",
    "1. Warner Bros\n",
    "2. Universal Pictures (Universal)\n",
    "3. Columbia Pictures\n",
    "4. Paramount Pictures\n",
    "5. Walt Disney"
   ]
  },
  {
   "cell_type": "code",
   "execution_count": null,
   "metadata": {},
   "outputs": [],
   "source": [
    "data_Comedy = data[data.genres.str.contains('Comedy', na = False)] #фильтруем датасет по имени в genres\n",
    "production_companies_Comedy = set(data_Comedy.production_companies.str.split('|').sum()) #создаем множество из компаний Comedy\n",
    "h = pd.Series({x:data_Comedy[data.production_companies.str.contains(x)].fin_res.sum() # magic!🧙‍\n",
    "               for x in production_companies_Comedy}).sort_values(ascending = False)\n",
    "h"
   ]
  },
  {
   "cell_type": "code",
   "execution_count": null,
   "metadata": {},
   "outputs": [],
   "source": [
    "answer_ls.append(2)"
   ]
  },
  {
   "cell_type": "markdown",
   "metadata": {},
   "source": [
    "# 23. Какая студия заработала больше всего денег в 2012 году?\n",
    "Варианты ответа:\n",
    "1. Universal Pictures (Universal)\n",
    "2. Warner Bros\n",
    "3. Columbia Pictures\n",
    "4. Paramount Pictures\n",
    "5. Lucasfilm"
   ]
  },
  {
   "cell_type": "code",
   "execution_count": null,
   "metadata": {},
   "outputs": [],
   "source": [
    "production_companies_12 = set(data_12.production_companies.str.split('|').sum()) #создаем множество из компаний 2012 year\n",
    "j = pd.Series({x:data_12[data.production_companies.str.contains(x)].fin_res.sum() # magic!🧙‍\n",
    "               for x in production_companies_12}).sort_values(ascending = False)\n",
    "j.head(10)"
   ]
  },
  {
   "cell_type": "code",
   "execution_count": null,
   "metadata": {},
   "outputs": [],
   "source": [
    "answer_ls.append(3)"
   ]
  },
  {
   "cell_type": "markdown",
   "metadata": {},
   "source": [
    "# 24. Самый убыточный фильм от Paramount Pictures\n",
    "Варианты ответа:\n",
    "\n",
    "1. K-19: The Widowmaker tt0267626\n",
    "2. Next tt0435705\n",
    "3. Twisted tt0315297\n",
    "4. The Love Guru tt0811138\n",
    "5. The Fighter tt0964517"
   ]
  },
  {
   "cell_type": "code",
   "execution_count": null,
   "metadata": {},
   "outputs": [],
   "source": [
    "data[data.production_companies.str.contains('Paramount', na = False)].sort_values(['fin_res']).head(3)"
   ]
  },
  {
   "cell_type": "code",
   "execution_count": null,
   "metadata": {},
   "outputs": [],
   "source": [
    "answer_ls.append(1)"
   ]
  },
  {
   "cell_type": "markdown",
   "metadata": {},
   "source": [
    "# 25. Какой Самый прибыльный год (заработали больше всего)?\n",
    "Варианты ответа:\n",
    "1. 2014\n",
    "2. 2008\n",
    "3. 2012\n",
    "4. 2002\n",
    "5. 2015"
   ]
  },
  {
   "cell_type": "code",
   "execution_count": null,
   "metadata": {},
   "outputs": [],
   "source": [
    "data.groupby(['release_year']).sum().sort_values(['fin_res'], ascending = False).head(3)"
   ]
  },
  {
   "cell_type": "code",
   "execution_count": null,
   "metadata": {},
   "outputs": [],
   "source": [
    "answer_ls.append(5)"
   ]
  },
  {
   "cell_type": "markdown",
   "metadata": {},
   "source": [
    "# 26. Какой Самый прибыльный год для студии Warner Bros?\n",
    "Варианты ответа:\n",
    "1. 2014\n",
    "2. 2008\n",
    "3. 2012\n",
    "4. 2010\n",
    "5. 2015"
   ]
  },
  {
   "cell_type": "code",
   "execution_count": null,
   "metadata": {},
   "outputs": [],
   "source": [
    "data_Warner_Bros = data[data.production_companies.str.contains('Warner', na = False)]\n",
    "data_Warner_Bros.groupby(['release_year']).sum().sort_values(['fin_res'], ascending = False).head(16)"
   ]
  },
  {
   "cell_type": "code",
   "execution_count": null,
   "metadata": {},
   "outputs": [],
   "source": [
    "answer_ls.append(1)"
   ]
  },
  {
   "cell_type": "markdown",
   "metadata": {},
   "source": [
    "# 27. В каком месяце за все годы суммарно вышло больше всего фильмов?\n",
    "Варианты ответа:\n",
    "1. Январь\n",
    "2. Июнь\n",
    "3. Декабрь\n",
    "4. Сентябрь\n",
    "5. Май"
   ]
  },
  {
   "cell_type": "code",
   "execution_count": null,
   "metadata": {},
   "outputs": [],
   "source": [
    "data_grouped_by_month = data.groupby(['release_month'])[['num','fin_res']].sum().sort_values(['num'], ascending = False)\n",
    "display(data_grouped_by_month)"
   ]
  },
  {
   "cell_type": "code",
   "execution_count": null,
   "metadata": {},
   "outputs": [],
   "source": [
    "answer_ls.append(4)"
   ]
  },
  {
   "cell_type": "markdown",
   "metadata": {},
   "source": [
    "# 28. Сколько суммарно вышло фильмов летом? (за июнь, июль, август)\n",
    "Варианты ответа:\n",
    "1. 345\n",
    "2. 450\n",
    "3. 478\n",
    "4. 523\n",
    "5. 381"
   ]
  },
  {
   "cell_type": "code",
   "execution_count": null,
   "metadata": {},
   "outputs": [],
   "source": [
    "data_grouped_by_month.num.loc[6] + data_grouped_by_month.num.loc[7] + data_grouped_by_month.num.loc[8]"
   ]
  },
  {
   "cell_type": "code",
   "execution_count": null,
   "metadata": {},
   "outputs": [],
   "source": [
    "answer_ls.append(2)"
   ]
  },
  {
   "cell_type": "markdown",
   "metadata": {},
   "source": [
    "# 29. Какой режисер выпускает (суммарно по годам) больше всего фильмов зимой?\n",
    "Варианты ответов:\n",
    "1. Steven Soderbergh\n",
    "2. Christopher Nolan\n",
    "3. Clint Eastwood\n",
    "4. Ridley Scott\n",
    "5. Peter Jackson"
   ]
  },
  {
   "cell_type": "code",
   "execution_count": 66,
   "metadata": {},
   "outputs": [
    {
     "data": {
      "text/plain": [
       "Peter Jackson        7\n",
       "Clint Eastwood       6\n",
       "Steven Soderbergh    6\n",
       "Adam Shankman        4\n",
       "Martin Scorsese      4\n",
       "                    ..\n",
       "Wes Ball             0\n",
       "Karey Kirkpatrick    0\n",
       "Saul Dibb            0\n",
       "Mark Duplass         0\n",
       "Nicholas Stoller     0\n",
       "Length: 998, dtype: int64"
      ]
     },
     "execution_count": 66,
     "metadata": {},
     "output_type": "execute_result"
    }
   ],
   "source": [
    "data_winter = data.loc[(data.release_month == 12) | (data.release_month == 1) | (data.release_month == 2)]\n",
    "directors = set(data.director.str.split('|').sum())\n",
    "k = pd.Series({x:data_winter[data_winter.director.str.contains(x)].imdb_id.count()\n",
    "               for x in directors}).sort_values(ascending = False)\n",
    "k"
   ]
  },
  {
   "cell_type": "code",
   "execution_count": null,
   "metadata": {},
   "outputs": [],
   "source": [
    "answer_ls.append(5)"
   ]
  },
  {
   "cell_type": "markdown",
   "metadata": {},
   "source": [
    "# 30. Какой месяц чаще всего по годам самый прибыльный?\n",
    "Варианты ответа:\n",
    "1. Январь\n",
    "2. Июнь\n",
    "3. Декабрь\n",
    "4. Сентябрь\n",
    "5. Май"
   ]
  },
  {
   "cell_type": "code",
   "execution_count": null,
   "metadata": {},
   "outputs": [],
   "source": [
    "data_grouped_by_month = data.groupby(['release_month'])[['num', 'fin_res']].sum().sort_values(['fin_res'], ascending = False)\n",
    "display(data_grouped_by_month)"
   ]
  },
  {
   "cell_type": "code",
   "execution_count": null,
   "metadata": {},
   "outputs": [],
   "source": [
    "pivot = data.loc[data['release_month'].isin(['6','12', '5'])].pivot_table(values=['fin_res'],\n",
    "index=['release_year'],\n",
    "columns=['release_month'],\n",
    "aggfunc='sum',\n",
    "margins=True)\n",
    "display(pivot)"
   ]
  },
  {
   "cell_type": "code",
   "execution_count": null,
   "metadata": {},
   "outputs": [],
   "source": [
    "answer_ls.append(2)"
   ]
  },
  {
   "cell_type": "markdown",
   "metadata": {},
   "source": [
    "# 31. Названия фильмов какой студии в среднем самые длинные по количеству символов?\n",
    "Варианты ответа:\n",
    "1. Universal Pictures (Universal)\n",
    "2. Warner Bros\n",
    "3. Jim Henson Company, The\n",
    "4. Paramount Pictures\n",
    "5. Four By Two Productions"
   ]
  },
  {
   "cell_type": "code",
   "execution_count": null,
   "metadata": {},
   "outputs": [],
   "source": [
    "m = pd.Series({x:data[data.production_companies.str.contains(x)].title_length.mean()\n",
    "               for x in production_companies}).sort_values(ascending = False)\n",
    "m"
   ]
  },
  {
   "cell_type": "code",
   "execution_count": null,
   "metadata": {},
   "outputs": [],
   "source": [
    "answer_ls.append(5)"
   ]
  },
  {
   "cell_type": "markdown",
   "metadata": {},
   "source": [
    "# 32. Названия фильмов какой студии в среднем самые длинные по количеству слов?\n",
    "Варианты ответа:\n",
    "1. Universal Pictures (Universal)\n",
    "2. Warner Bros\n",
    "3. Jim Henson Company, The\n",
    "4. Paramount Pictures\n",
    "5. Four By Two Productions"
   ]
  },
  {
   "cell_type": "code",
   "execution_count": null,
   "metadata": {},
   "outputs": [],
   "source": [
    "n = pd.Series({x:data[data.production_companies.str.contains(x)].title_words.mean()\n",
    "               for x in production_companies}).sort_values(ascending = False)\n",
    "n"
   ]
  },
  {
   "cell_type": "code",
   "execution_count": null,
   "metadata": {},
   "outputs": [],
   "source": [
    "answer_ls.append(5)"
   ]
  },
  {
   "cell_type": "markdown",
   "metadata": {},
   "source": [
    "# 33. Сколько разных слов используется в названиях фильмов?(без учета регистра)\n",
    "Варианты ответа:\n",
    "1. 6540\n",
    "2. 1002\n",
    "3. 2461\n",
    "4. 28304\n",
    "5. 3432"
   ]
  },
  {
   "cell_type": "code",
   "execution_count": null,
   "metadata": {},
   "outputs": [],
   "source": [
    "title_words = set(data.title_lower.str.split(' ').sum())\n",
    "len(title_words) - 1 # минусую пробел"
   ]
  },
  {
   "cell_type": "code",
   "execution_count": null,
   "metadata": {},
   "outputs": [],
   "source": [
    "answer_ls.append(3)"
   ]
  },
  {
   "cell_type": "markdown",
   "metadata": {},
   "source": [
    "# 34. Какие фильмы входят в 1 процент лучших по рейтингу?\n",
    "Варианты ответа:\n",
    "1. Inside Out, Gone Girl, 12 Years a Slave\n",
    "2. BloodRayne, The Adventures of Rocky & Bullwinkle\n",
    "3. The Lord of the Rings: The Return of the King\n",
    "4. 300, Lucky Number Slevin"
   ]
  },
  {
   "cell_type": "code",
   "execution_count": null,
   "metadata": {},
   "outputs": [],
   "source": [
    "data.sort_values('vote_average', ascending=False).head(14)"
   ]
  },
  {
   "cell_type": "code",
   "execution_count": null,
   "metadata": {},
   "outputs": [],
   "source": [
    "data.vote_average.value_counts(normalize = True) #оценка должна быть не ниже 7.9"
   ]
  },
  {
   "cell_type": "code",
   "execution_count": null,
   "metadata": {},
   "outputs": [],
   "source": [
    "answer_ls.append(1)"
   ]
  },
  {
   "cell_type": "markdown",
   "metadata": {},
   "source": [
    "# 35. Какие актеры чаще всего снимаются в одном фильме вместе\n",
    "Варианты ответа:\n",
    "1. Johnny Depp & Helena Bonham Carter\n",
    "2. Hugh Jackman & Ian McKellen\n",
    "3. Vin Diesel & Paul Walker\n",
    "4. Adam Sandler & Kevin James\n",
    "5. Daniel Radcliffe & Rupert Grint"
   ]
  },
  {
   "cell_type": "code",
   "execution_count": 64,
   "metadata": {},
   "outputs": [
    {
     "name": "stdout",
     "output_type": "stream",
     "text": [
      "Johnny Depp & Helena Bonham Carter 6\n",
      "Hugh Jackman & Ian McKellenlen 5\n",
      "Vin Diesel & Paul Walker 5\n",
      "Adam Sandler & Kevin James 5\n",
      "Daniel Radcliffe & Rupert Grint 8\n"
     ]
    }
   ],
   "source": [
    "point_1 = data[data['cast'].str.contains('Johnny Depp') & data['cast'].str.contains('Helena Bonham Carter')]\n",
    "print('Johnny Depp & Helena Bonham Carter', len(point_1))\n",
    "point_2 = data[data['cast'].str.contains('Hugh Jackman') & data['cast'].str.contains('Ian McKellen')]\n",
    "print('Hugh Jackman & Ian McKellenlen', len(point_2))\n",
    "point_3 = data[data['cast'].str.contains('Vin Diesel') & data['cast'].str.contains('Paul Walker')]\n",
    "print('Vin Diesel & Paul Walker', len(point_3))\n",
    "point_4 = data[data['cast'].str.contains('Adam Sandler') & data['cast'].str.contains('Kevin James')]\n",
    "print('Adam Sandler & Kevin James', len(point_4))\n",
    "point_5 = data[data['cast'].str.contains('Daniel Radcliffe') & data['cast'].str.contains('Rupert Grint')]\n",
    "print('Daniel Radcliffe & Rupert Grint', len(point_5))"
   ]
  },
  {
   "cell_type": "code",
   "execution_count": 63,
   "metadata": {},
   "outputs": [
    {
     "data": {
      "text/plain": [
       "[(('Daniel Radcliffe', 'Rupert Grint'), 8),\n",
       " (('Daniel Radcliffe', 'Emma Watson'), 8),\n",
       " (('Rupert Grint', 'Emma Watson'), 7),\n",
       " (('Ben Stiller', 'Owen Wilson'), 6),\n",
       " (('Johnny Depp', 'Helena Bonham Carter'), 6),\n",
       " (('Adam Sandler', 'Kevin James'), 5),\n",
       " (('Hugh Jackman', 'Ian McKellen'), 5),\n",
       " (('Kristen Stewart', 'Robert Pattinson'), 5),\n",
       " (('Kristen Stewart', 'Taylor Lautner'), 5),\n",
       " (('Robert Pattinson', 'Taylor Lautner'), 5)]"
      ]
     },
     "execution_count": 63,
     "metadata": {},
     "output_type": "execute_result"
    }
   ],
   "source": [
    "data['sep_cast'] = data.cast.str.split('|')\n",
    "from itertools import combinations\n",
    "data.sep_cast = data.sep_cast.apply(lambda x: list(combinations(x, 2)))\n",
    "pairs = sum(data.sep_cast.tolist(), [])\n",
    "c = Counter(pairs)\n",
    "c.most_common(10)"
   ]
  },
  {
   "cell_type": "code",
   "execution_count": null,
   "metadata": {},
   "outputs": [],
   "source": [
    "answer_ls.append(5)"
   ]
  },
  {
   "cell_type": "markdown",
   "metadata": {},
   "source": [
    "# 36. У какого из режиссеров выше вероятность выпустить фильм в прибыли? (5 баллов)101\n",
    "Варианты ответа:\n",
    "1. Quentin Tarantino\n",
    "2. Steven Soderbergh\n",
    "3. Robert Rodriguez\n",
    "4. Christopher Nolan\n",
    "5. Clint Eastwood"
   ]
  },
  {
   "cell_type": "code",
   "execution_count": null,
   "metadata": {},
   "outputs": [],
   "source": [
    "a_1 = round((len(data_profit[data_profit.director.str.contains('Quentin Tarantino', na = False)]) / len(data[data.director.str.contains('Quentin Tarantino', na = False)])), 2)\n",
    "a_2 = round((len(data_profit[data_profit.director.str.contains('Steven Soderbergh', na = False)]) / len(data[data.director.str.contains('Steven Soderbergh', na = False)])), 2)\n",
    "a_3 = round((len(data_profit[data_profit.director.str.contains('Robert Rodriguez', na = False)]) / len(data[data.director.str.contains('Robert Rodriguez', na = False)])), 2)\n",
    "a_4 = round((len(data_profit[data_profit.director.str.contains('Christopher Nolan', na = False)]) / len(data[data.director.str.contains('Christopher Nolan', na = False)])), 2)\n",
    "a_5 = round((len(data_profit[data_profit.director.str.contains('Clint Eastwood', na = False)]) / len(data[data.director.str.contains('Clint Eastwood', na = False)])), 2)\n",
    "print(a_1, a_2, a_3, a_4, a_5, sep = '\\n')"
   ]
  },
  {
   "cell_type": "code",
   "execution_count": 84,
   "metadata": {},
   "outputs": [
    {
     "data": {
      "text/html": [
       "<div>\n",
       "<style scoped>\n",
       "    .dataframe tbody tr th:only-of-type {\n",
       "        vertical-align: middle;\n",
       "    }\n",
       "\n",
       "    .dataframe tbody tr th {\n",
       "        vertical-align: top;\n",
       "    }\n",
       "\n",
       "    .dataframe thead th {\n",
       "        text-align: right;\n",
       "    }\n",
       "</style>\n",
       "<table border=\"1\" class=\"dataframe\">\n",
       "  <thead>\n",
       "    <tr style=\"text-align: right;\">\n",
       "      <th></th>\n",
       "      <th>dirs</th>\n",
       "      <th>ttl_mov</th>\n",
       "      <th>profitable_mov</th>\n",
       "      <th>success_rate</th>\n",
       "    </tr>\n",
       "  </thead>\n",
       "  <tbody>\n",
       "    <tr>\n",
       "      <th>3</th>\n",
       "      <td>Ridley Scott</td>\n",
       "      <td>12</td>\n",
       "      <td>12</td>\n",
       "      <td>100.0</td>\n",
       "    </tr>\n",
       "    <tr>\n",
       "      <th>7</th>\n",
       "      <td>Steven Spielberg</td>\n",
       "      <td>10</td>\n",
       "      <td>10</td>\n",
       "      <td>100.0</td>\n",
       "    </tr>\n",
       "    <tr>\n",
       "      <th>8</th>\n",
       "      <td>Tim Burton</td>\n",
       "      <td>9</td>\n",
       "      <td>9</td>\n",
       "      <td>100.0</td>\n",
       "    </tr>\n",
       "    <tr>\n",
       "      <th>11</th>\n",
       "      <td>Michael Bay</td>\n",
       "      <td>8</td>\n",
       "      <td>8</td>\n",
       "      <td>100.0</td>\n",
       "    </tr>\n",
       "    <tr>\n",
       "      <th>12</th>\n",
       "      <td>Brett Ratner</td>\n",
       "      <td>8</td>\n",
       "      <td>8</td>\n",
       "      <td>100.0</td>\n",
       "    </tr>\n",
       "    <tr>\n",
       "      <th>16</th>\n",
       "      <td>Christopher Nolan</td>\n",
       "      <td>8</td>\n",
       "      <td>8</td>\n",
       "      <td>100.0</td>\n",
       "    </tr>\n",
       "    <tr>\n",
       "      <th>17</th>\n",
       "      <td>Antoine Fuqua</td>\n",
       "      <td>8</td>\n",
       "      <td>8</td>\n",
       "      <td>100.0</td>\n",
       "    </tr>\n",
       "    <tr>\n",
       "      <th>18</th>\n",
       "      <td>Peter Jackson</td>\n",
       "      <td>8</td>\n",
       "      <td>8</td>\n",
       "      <td>100.0</td>\n",
       "    </tr>\n",
       "    <tr>\n",
       "      <th>27</th>\n",
       "      <td>Adam McKay</td>\n",
       "      <td>6</td>\n",
       "      <td>6</td>\n",
       "      <td>100.0</td>\n",
       "    </tr>\n",
       "    <tr>\n",
       "      <th>29</th>\n",
       "      <td>Zack Snyder</td>\n",
       "      <td>6</td>\n",
       "      <td>6</td>\n",
       "      <td>100.0</td>\n",
       "    </tr>\n",
       "  </tbody>\n",
       "</table>\n",
       "</div>"
      ],
      "text/plain": [
       "                 dirs  ttl_mov  profitable_mov  success_rate\n",
       "3        Ridley Scott       12              12         100.0\n",
       "7    Steven Spielberg       10              10         100.0\n",
       "8          Tim Burton        9               9         100.0\n",
       "11        Michael Bay        8               8         100.0\n",
       "12       Brett Ratner        8               8         100.0\n",
       "16  Christopher Nolan        8               8         100.0\n",
       "17      Antoine Fuqua        8               8         100.0\n",
       "18      Peter Jackson        8               8         100.0\n",
       "27         Adam McKay        6               6         100.0\n",
       "29        Zack Snyder        6               6         100.0"
      ]
     },
     "execution_count": 84,
     "metadata": {},
     "output_type": "execute_result"
    }
   ],
   "source": [
    "data_profit = data.loc[data.fin_res > 0]\n",
    "directors = set(data.director.str.split('|').sum())\n",
    "directors1 = set(data.director.str.split('|').sum())\n",
    "b = pd.Series({x:data[data.director.str.contains(x)].imdb_id.count()\n",
    "for x in directors}).sort_values(ascending = False)\n",
    "d=pd.Series({x:data_profit[data_profit.director.str.contains(x)].imdb_id.count()\n",
    "for x in directors1}).sort_values(ascending = False)\n",
    "all_mov=b.to_frame().reset_index()\n",
    "all_mov.columns=['dirs','ttl_mov']\n",
    "prof_only=d.to_frame().reset_index()\n",
    "prof_only.columns=['dirs','profitable_mov']\n",
    "joined = all_mov.merge(prof_only, on='dirs', how='inner')\n",
    "joined['success_rate']=round(joined.profitable_mov/joined.ttl_mov,2)*100\n",
    "data6=data.query('release_year == 2015')\n",
    "joined.sort_values(['success_rate', 'ttl_mov'], ascending=[False, False]).head(10)"
   ]
  },
  {
   "cell_type": "code",
   "execution_count": null,
   "metadata": {},
   "outputs": [],
   "source": [
    "answer_ls.append(4)"
   ]
  },
  {
   "cell_type": "markdown",
   "metadata": {},
   "source": [
    "# Submission"
   ]
  },
  {
   "cell_type": "code",
   "execution_count": null,
   "metadata": {},
   "outputs": [],
   "source": [
    "len(answer_ls)"
   ]
  },
  {
   "cell_type": "code",
   "execution_count": null,
   "metadata": {},
   "outputs": [],
   "source": [
    "pd.DataFrame({'Id':range(1,len(answer_ls)+1), 'Answer':answer_ls}, columns=['Id', 'Answer'])"
   ]
  },
  {
   "cell_type": "code",
   "execution_count": null,
   "metadata": {},
   "outputs": [],
   "source": []
  }
 ],
 "metadata": {
  "kernelspec": {
   "display_name": "Python 3",
   "language": "python",
   "name": "python3"
  },
  "language_info": {
   "codemirror_mode": {
    "name": "ipython",
    "version": 3
   },
   "file_extension": ".py",
   "mimetype": "text/x-python",
   "name": "python",
   "nbconvert_exporter": "python",
   "pygments_lexer": "ipython3",
   "version": "3.7.6"
  }
 },
 "nbformat": 4,
 "nbformat_minor": 4
}
